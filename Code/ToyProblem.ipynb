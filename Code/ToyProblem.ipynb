{
 "cells": [
  {
   "cell_type": "code",
   "execution_count": null,
   "id": "64b1277d",
   "metadata": {},
   "outputs": [],
   "source": [
    "# Import packages\n",
    "import numpy as np\n",
    "import cvxpy as cp\n",
    "import mosek\n",
    "import time\n",
    "\n",
    "import phi_divergence as phi\n",
    "import robust_sampling as rs\n",
    "import dataio\n",
    "import util"
   ]
  },
  {
   "cell_type": "markdown",
   "id": "9496bc27",
   "metadata": {},
   "source": [
    "The toy model we examine is as follows:\n",
    "\n",
    "\\begin{align}\\label{toy_model_2}\n",
    "    \\begin{split}\n",
    "        \\max_{\\mathbf{x} \\geq \\mathbf{0}}\\{\\mathbf{e}^T \\mathbf{x}: \\mathbb{P}^*(\\mathbf{\\xi}\\in [-1,1]^{k}: \\mathbf{\\xi}^T \\mathbf{x} \\leq 1)\\geq \\beta\\}.\n",
    "    \\end{split}\n",
    "\\end{align}"
   ]
  },
  {
   "cell_type": "code",
   "execution_count": null,
   "id": "b21db292",
   "metadata": {},
   "outputs": [],
   "source": [
    "# Problem specific functions:\n",
    "def generate_data(random_seed, k, N):\n",
    "    np.random.seed(random_seed)\n",
    "    data = np.random.uniform(-1,1,size = (N,k)) # generates N random scenarios    \n",
    "    return data \n",
    "\n",
    "def generate_data_with_nominal(random_seed, k, N):\n",
    "    data_nominal = np.array([[0] * k])\n",
    "    np.random.seed(random_seed)\n",
    "    data = np.random.uniform(-1,1,size = (N-1,k)) # generate N-1 scenarios\n",
    "    data = np.concatenate((data_nominal,data)) # add nominal case to training data\n",
    "    return data\n",
    "\n",
    "def solve_SCP(S, time_limit):\n",
    "    k = S.shape[1]\n",
    "    x = cp.Variable(k, nonneg = True)\n",
    "    constraints = [(S @ x) - 1 <= 0, cp.sum(x[0:(k-1)]) <= x[k-1]-1, x<=10]\n",
    "    obj = cp.Maximize(cp.sum(x))\n",
    "    prob = cp.Problem(obj,constraints)\n",
    "    try:\n",
    "        prob.solve(solver=cp.MOSEK, mosek_params = {mosek.dparam.optimizer_max_time: time_limit})\n",
    "    except cp.error.SolverError:\n",
    "        return (None, None)\n",
    "    return (x.value, prob.value)\n",
    "\n",
    "def uncertain_constraint(S, x):\n",
    "    return (np.dot(S,x)) - 1\n",
    "\n",
    "def get_true_prob(x, k):\n",
    "    return(1/2+1/(2*x[k-1]))\n",
    "    \n",
    "def solve_toyproblem_true_prob(beta, k):\n",
    "    x = cp.Variable(k, nonneg = True)\n",
    "    constraints = [(1-2*beta)*x[k-1] + 1 >= 0, cp.sum(x[0:(k-1)]) <= x[k-1]-1, x<=10]\n",
    "    obj = cp.Maximize(cp.sum(x))\n",
    "    prob = cp.Problem(obj,constraints)\n",
    "    prob.solve(solver=cp.MOSEK)\n",
    "    return(x.value, prob.value)"
   ]
  },
  {
   "cell_type": "code",
   "execution_count": null,
   "id": "82a8b832",
   "metadata": {},
   "outputs": [],
   "source": [
    "# Set parameter values\n",
    "random_seed = 1\n",
    "alpha = 10**-6\n",
    "beta = 0.75\n",
    "k = 2\n",
    "N_train = 20\n",
    "N_test = 1000\n",
    "par = 1\n",
    "phi_div = phi.mod_chi2_cut\n",
    "phi_dot = 2\n",
    "numeric_precision = 1e-6 # To correct for floating-point math operations"
   ]
  },
  {
   "cell_type": "code",
   "execution_count": null,
   "id": "7abf4a80",
   "metadata": {},
   "outputs": [],
   "source": [
    "# Get generated data\n",
    "#N_campi = util.determine_campi_N_min(k, beta, alpha)\n",
    "#N_train = N_campi\n",
    "data_train = generate_data_with_nominal(random_seed, k, N_train)\n",
    "data_test = generate_data(random_seed, k, N_test)"
   ]
  },
  {
   "cell_type": "code",
   "execution_count": null,
   "id": "ec62f74c",
   "metadata": {},
   "outputs": [],
   "source": [
    "time_limit_search = 5 #0.25*60 # in seconds (time provided to search algorithm)\n",
    "#time_limit_mosek = 10*60 # in seconds (for larger MIP / LP solves)\n",
    "time_limit_solve = 5*60 # in seconds (for individuals solves of SCP)\n",
    "max_nr_solutions = 1000 # for easy problems with long time limits, we may want extra restriction\n",
    "add_remove_threshold = 0.00 # This determines when randomness is introduced in add/removal decision\n",
    "\n",
    "#add_strategy = 'smallest_vio'\n",
    "#add_strategy = 'N*(beta-lb)_smallest_vio'\n",
    "add_strategy = 'random_vio'\n",
    "#add_strategy = 'random_weighted_vio'\n",
    "remove_strategy = 'random_active'\n",
    "clean_strategy = (30, 'all_inactive')\n",
    "\n",
    "\n",
    "\n",
    "runtime_search, num_iter, solutions = rs.search_alg(data_train, N_test, beta, alpha, time_limit_search, time_limit_solve, \n",
    "                                                   max_nr_solutions, add_strategy, remove_strategy, clean_strategy, \n",
    "                                                   add_remove_threshold,  \n",
    "                                                   par, phi_div, phi_dot, numeric_precision,\n",
    "                                                   solve_SCP, uncertain_constraint, random_seed)\n",
    "\n",
    "runtime_eval, best_sol, pareto_solutions = rs.evaluate_alg(solutions, data_test, beta, alpha, par, phi_div, phi_dot, \n",
    "                                                           uncertain_constraint, numeric_precision)"
   ]
  },
  {
   "cell_type": "code",
   "execution_count": null,
   "id": "5f034ab4",
   "metadata": {},
   "outputs": [],
   "source": [
    "runtime_search"
   ]
  },
  {
   "cell_type": "code",
   "execution_count": null,
   "id": "7baf3420",
   "metadata": {},
   "outputs": [],
   "source": [
    "num_iter"
   ]
  },
  {
   "cell_type": "code",
   "execution_count": null,
   "id": "ed32fbed",
   "metadata": {
    "scrolled": true
   },
   "outputs": [],
   "source": [
    "runtime_eval"
   ]
  },
  {
   "cell_type": "code",
   "execution_count": null,
   "id": "429175a2",
   "metadata": {},
   "outputs": [],
   "source": [
    "dataio.print_solution_info(best_sol)"
   ]
  },
  {
   "cell_type": "code",
   "execution_count": null,
   "id": "c87e87b9",
   "metadata": {},
   "outputs": [],
   "source": [
    "x_true, obj_true = solve_toyproblem_true_prob(beta, k)\n",
    "obj_alg = best_sol['obj']\n",
    "obj_gap_true =  100*(obj_true - obj_alg)/obj_true\n",
    "obj_gap_true"
   ]
  },
  {
   "cell_type": "code",
   "execution_count": null,
   "id": "f4d1c912",
   "metadata": {
    "scrolled": true
   },
   "outputs": [],
   "source": [
    "for i,sol in enumerate(solutions):\n",
    "    if i<=7:\n",
    "        Z_arr = data_train[sol['scenario_set']]\n",
    "        true_prob = get_true_prob(sol['sol'], k)\n",
    "        if i == 0:\n",
    "            dataio.plot_iter(i, data_train, Z_arr, sol['sol'], sol['obj'], \n",
    "                             sol['p_train'], sol['lb_train'], true_prob,\n",
    "                             True, \"png\", True, N_train, alpha, beta)\n",
    "        else:\n",
    "            dataio.plot_iter(i, data_train, Z_arr, sol['sol'], sol['obj'], \n",
    "                             sol['p_train'], sol['lb_train'], true_prob,\n",
    "                             True, \"png\", False, N_train, alpha, beta)\n",
    "        \n",
    "            dataio.plot_iter(i, data_test, None, sol['sol'], sol['obj'], \n",
    "                             sol['p_test'], sol['lb_test'], true_prob,\n",
    "                             True, \"png\", False, N_test, alpha, beta)\n",
    "    else:\n",
    "        break"
   ]
  },
  {
   "cell_type": "code",
   "execution_count": null,
   "id": "f287d75d",
   "metadata": {
    "scrolled": true
   },
   "outputs": [],
   "source": [
    "dataio.plot_pareto_curve(pareto_solutions, beta, None, None, None, None)"
   ]
  },
  {
   "cell_type": "code",
   "execution_count": null,
   "id": "de86a966",
   "metadata": {
    "scrolled": true
   },
   "outputs": [],
   "source": [
    "dataio.plot_obj_over_time(solutions, best_sol, None, None, None, None)"
   ]
  },
  {
   "cell_type": "code",
   "execution_count": null,
   "id": "adb9e83c",
   "metadata": {
    "scrolled": true
   },
   "outputs": [],
   "source": [
    "dataio.plot_size_set_over_time(solutions, best_sol, None, None, None, None)"
   ]
  },
  {
   "cell_type": "code",
   "execution_count": null,
   "id": "cc263207",
   "metadata": {},
   "outputs": [],
   "source": []
  },
  {
   "cell_type": "code",
   "execution_count": null,
   "id": "b3502e7a",
   "metadata": {},
   "outputs": [],
   "source": [
    "# Plot final solution found by algorithm\n",
    "name = 'Strategy: '+ str(add_strategy)\n",
    "save_plot = False\n",
    "plot_type = \"eps\"\n",
    "show_legend = True\n",
    "Z_values = data_train[best_sol['scenario_set']]\n",
    "dataio.plot_solution(name, data_train, Z_values, best_sol['sol'], \n",
    "              best_sol['obj'], best_sol['lb_test'], save_plot, plot_type, show_legend, N, alpha, beta)"
   ]
  },
  {
   "cell_type": "code",
   "execution_count": null,
   "id": "46db1778",
   "metadata": {},
   "outputs": [],
   "source": [
    "# Compute optimal solution with true probability constraint\n",
    "prob_true = beta\n",
    "[x_true, obj_true] = solve_toyproblem_true_prob(prob_true, k)\n",
    "constr = uncertain_constraint(data_test, x_true)\n",
    "vio = constr[constr>(0+numeric_precision)]   \n",
    "p_vio = len(vio)/N_train\n",
    "p = np.array([1-p_vio, p_vio])\n",
    "r = phi_dot/(2*N_test)*scipy.stats.chi2.ppf(1-alpha, 1)\n",
    "lb = rs.compute_lb(p, r, par, phi_div)\n",
    "print(p)\n",
    "print(lb)\n",
    "print(obj_true)"
   ]
  },
  {
   "cell_type": "code",
   "execution_count": null,
   "id": "5b3dbb7e",
   "metadata": {},
   "outputs": [],
   "source": [
    "name = \"TrueProb=\"+str(prob_true)\n",
    "save_plot = False\n",
    "plot_type = \"eps\"\n",
    "show_legend = True\n",
    "dataio.plot_solution(name, data_test, None, x_true, obj_true, lb, save_plot, plot_type, show_legend, N, alpha, beta)"
   ]
  },
  {
   "cell_type": "code",
   "execution_count": null,
   "id": "cc9e3ebb",
   "metadata": {},
   "outputs": [],
   "source": [
    "# Determine optimal solution given data_test\n",
    "runtime, opt_x, opt_sum_y, opt_obj, opt_lb = util.compute_opt_given_data(alpha, beta, par, phi_div, data_test, time_limit_mosek)"
   ]
  },
  {
   "cell_type": "code",
   "execution_count": null,
   "id": "b4134aa3",
   "metadata": {},
   "outputs": [],
   "source": [
    "runtime"
   ]
  },
  {
   "cell_type": "code",
   "execution_count": null,
   "id": "ea770992",
   "metadata": {},
   "outputs": [],
   "source": [
    "# Plot optimal solution given data_test\n",
    "name = 'Opt_given_test_data'\n",
    "save_plot = False\n",
    "plot_type = \"eps\"\n",
    "show_legend = True\n",
    "dataio.plot_solution(name, data_test, None, opt_x, opt_obj, opt_lb, save_plot, plot_type, show_legend, N, alpha, beta)"
   ]
  },
  {
   "cell_type": "code",
   "execution_count": null,
   "id": "1b1ddec0",
   "metadata": {},
   "outputs": [],
   "source": [
    "# Compute solution via Campi method\n",
    "data = generate_data(k, N_campi)\n",
    "runtime, campi_x, campi_obj, campi_true_prob, Z_arr = util.solve_with_campi_N(alpha, beta, numeric_precision, data, time_limit_mosek)"
   ]
  },
  {
   "cell_type": "code",
   "execution_count": null,
   "id": "d33e577c",
   "metadata": {},
   "outputs": [],
   "source": [
    "# Plot Campi solution\n",
    "name = 'Campi method'\n",
    "save_plot = False\n",
    "plot_type = \"eps\"\n",
    "show_legend = True\n",
    "dataio.plot_solution(name, data, Z_arr, campi_x, campi_obj, 0, save_plot, plot_type, show_legend, N, alpha, beta)"
   ]
  },
  {
   "cell_type": "markdown",
   "id": "1433f0c8",
   "metadata": {},
   "source": [
    "# The following cells are used to obtain output and write to latex tables"
   ]
  },
  {
   "cell_type": "code",
   "execution_count": null,
   "id": "4f27e396",
   "metadata": {},
   "outputs": [],
   "source": [
    "headers = ['k', 'N_train', 'N_test', 'seed', \n",
    "           'Obj.~(true prob.)', 'Obj.~(RS)', 'Gap (\\%)', 'LB_{train}', 'LB_{test}', 'True Prob.', \n",
    "           '\\#Iter.~(add)', '\\#Iter.~(remove)', '\\#Iter.~(clean)', '$|\\mathcal{X}|$',\n",
    "           '$|\\mathcal{S}_{max}|$', 'Time']\n",
    "\n",
    "output_data = {}\n",
    "\n",
    "# Variable parameter values\n",
    "N_total_settings = [100, 500, 1000]\n",
    "p_train_settings = [0.2, 0.4, 0.5, 0.6, 0.8]\n",
    "random_seed_settings = [i for i in range(1, 11)]\n",
    "\n",
    "# Fixed parameter values\n",
    "k = 1000\n",
    "alpha = 0.10\n",
    "beta = 0.90\n",
    "\n",
    "# LB-related parameters\n",
    "par = 1\n",
    "phi_div = phi.mod_chi2_cut\n",
    "phi_dot = 1\n",
    "numeric_precision = 1e-6 # To correct for floating-point math operations\n",
    "\n",
    "# RS-related parameters\n",
    "time_limit_search = 1*60\n",
    "time_limit_solve = 1*time_limit_search # in seconds \n",
    "max_nr_solutions = 10000 # for easy problems with long time limits, we may want extra restriction\n",
    "add_strategy = 'random_vio'\n",
    "remove_strategy = 'random_active'\n",
    "clean_strategy = (20, 'all_inactive')\n",
    "add_remove_threshold = 0.00 # should be fractional in relation to beta, set to 0 if not used\n",
    "\n",
    "# Compute true opt\n",
    "x_true, obj_true = solve_toyproblem_true_prob(beta, k)\n",
    "\n",
    "run_count = 0\n",
    "for N_total in N_total_settings:\n",
    "    for p_train in p_train_settings:\n",
    "        \n",
    "        N_train = round(p_train * N_total)\n",
    "        N_test = N_total - N_train\n",
    "        \n",
    "        for random_seed in random_seed_settings:\n",
    "            \n",
    "            data = generate_data(random_seed, k, N_total)               \n",
    "            data_train, data_test = train_test_split(data, train_size=(N_train/N_total), random_state=random_seed)\n",
    "            \n",
    "            runtime_search, num_iter, solutions = rs.search_alg(data_train, N_test, beta, alpha, time_limit_search, time_limit_solve, \n",
    "                                                       max_nr_solutions, add_strategy, remove_strategy, clean_strategy, \n",
    "                                                       add_remove_threshold,  \n",
    "                                                       par, phi_div, phi_dot, numeric_precision,\n",
    "                                                       solve_SCP, uncertain_constraint, random_seed)\n",
    "\n",
    "            runtime_eval, best_sol, pareto_solutions = rs.evaluate_alg(solutions, data_test, beta, alpha, par, phi_div, phi_dot, \n",
    "                                                                       uncertain_constraint, numeric_precision)\n",
    "            x_true_prob = get_true_prob(best_sol['sol'], k)\n",
    "        \n",
    "            # Compute gap with true prob opt\n",
    "            obj_gap_true = 100*(obj_true - best_sol['obj'])/obj_true\n",
    "            \n",
    "            # Get max scenario_set size\n",
    "            max_S = 0\n",
    "            for sol in solutions:\n",
    "                S = len(sol['scenario_set'])\n",
    "                if S > max_S:\n",
    "                    max_S = S\n",
    "            \n",
    "            output_data[(k, N_train, N_test, random_seed)] = [obj_true, \n",
    "                                                              best_sol['obj'],\n",
    "                                                              obj_gap_true,\n",
    "                                                              best_sol['lb_train'],\n",
    "                                                              best_sol['lb_test'],\n",
    "                                                              x_true_prob,\n",
    "                                                              num_iter['add'], num_iter['remove'], num_iter['clean'],\n",
    "                                                              len(solutions), max_S, best_sol['time']]\n",
    "    \n",
    "            output_file_name = 'new_output_data_2'\n",
    "            with open(r'output/'+output_file_name+'.txt','w+') as f:\n",
    "                f.write(str(output_data))\n",
    "    \n",
    "            run_count += 1\n",
    "            print(\"Completed run: \" + str(run_count))"
   ]
  },
  {
   "cell_type": "code",
   "execution_count": null,
   "id": "6cf92427",
   "metadata": {},
   "outputs": [],
   "source": [
    "output_data"
   ]
  },
  {
   "cell_type": "code",
   "execution_count": null,
   "id": "f71c6295",
   "metadata": {},
   "outputs": [],
   "source": [
    "dataio.write_output_to_latex(2, headers, output_data)"
   ]
  },
  {
   "cell_type": "code",
   "execution_count": null,
   "id": "da1a482d",
   "metadata": {},
   "outputs": [],
   "source": [
    "output_file_name = 'new_output'"
   ]
  },
  {
   "cell_type": "code",
   "execution_count": null,
   "id": "6615ad26",
   "metadata": {},
   "outputs": [],
   "source": [
    "# Write output to .txt file\n",
    "with open(r'output/'+output_file_name+'.txt','w+') as f:\n",
    "    f.write(str(output_data))"
   ]
  },
  {
   "cell_type": "code",
   "execution_count": null,
   "id": "84e164f0",
   "metadata": {},
   "outputs": [],
   "source": [
    "# Read from .txt file\n",
    "file_path = 'output/'+output_file_name+'.txt'\n",
    "dic = ''\n",
    "with open(file_path,'r') as f:\n",
    "         for i in f.readlines():\n",
    "            dic=i #string\n",
    "output_data_read_2 = eval(dic)"
   ]
  },
  {
   "cell_type": "code",
   "execution_count": null,
   "id": "de736569",
   "metadata": {
    "scrolled": true
   },
   "outputs": [],
   "source": [
    "import pandas as pd\n",
    "\n",
    "k = 1000\n",
    "output_data_agg = {}\n",
    "for N_total in N_total_settings:\n",
    "    for p_train in p_train_settings:\n",
    "        \n",
    "        N_train = round(p_train * N_total)\n",
    "        N_test = N_total - N_train\n",
    "        \n",
    "        df = pd.DataFrame({key: pd.Series(val) for key, val in output_data.items() if (key[1] == N_train\n",
    "                                                                                       and key[2] == N_test)})\n",
    "        df = df.astype(float)\n",
    "        df_agg = df.agg([\"mean\",\"std\"], axis=\"columns\")\n",
    "        records = df_agg.to_records(index=False)\n",
    "        result = list(records)\n",
    "        li = []\n",
    "        for i, (mu,std) in enumerate(result):\n",
    "            if i >= 5:\n",
    "                li.append(f'{round(mu,1):.1f}' + \" (\"+f'{round(std,1):.1f}'+\")\")\n",
    "            else:\n",
    "                li.append(f'{round(mu,3):.3f}' + \" (\"+f'{round(std,3):.3f}'+\")\")\n",
    "        \n",
    "        output_data_agg[(k, N_train, N_test)] = li\n",
    "output_data_agg"
   ]
  },
  {
   "cell_type": "code",
   "execution_count": null,
   "id": "dfec9e54",
   "metadata": {},
   "outputs": [],
   "source": [
    "headers_agg = ['k', 'N_train', 'N_test', \n",
    "           'Obj.~(true prob.)', 'Obj.~(RS)', 'Gap (\\%)', 'LB_{train}', 'LB_{test}', 'True Prob.', \n",
    "           '\\#Iter.~(add)', '\\#Iter.~(remove)', '\\#Iter.~(clean)', '$|\\mathcal{X}|$',\n",
    "           '$|\\mathcal{S}_{max}|$', 'Time']\n",
    "\n",
    "dataio.write_output_to_latex(3, headers_agg, output_data_agg)"
   ]
  },
  {
   "cell_type": "code",
   "execution_count": null,
   "id": "565c3af7",
   "metadata": {},
   "outputs": [],
   "source": [
    "# To plot histograms for random seed output\n",
    "# Read from .txt file\n",
    "output_file_name = 'new_output'\n",
    "file_path = 'output/'+output_file_name+'.txt'\n",
    "dic = ''\n",
    "with open(file_path,'r') as f:\n",
    "         for i in f.readlines():\n",
    "            dic=i #string\n",
    "output_data_read = eval(dic)\n",
    "\n",
    "df = pd.DataFrame.from_dict(output_data_read, orient='index')\n",
    "#li1 = [col for col in df.columns if 'add + improve' == col[1]]\n",
    "\n",
    "df2 = pd.DataFrame({key: pd.Series(val) for key, val in output_data_read.items() if key[1] == 'add + improve + remove'})\n",
    "obj2 = df2.iloc[0,:].astype(float)\n",
    "\n",
    "title = 'Distribution of best found solution objective for random add + improve + remove'# for $\\beta = 0.95$, $\\alpha=10^{-6}$, $N_{1} = 1,000$, $N_{2} = 10,000$ and time limit $\\mathcal{L} = 1$ minute'\n",
    "dataio.plot_hist(obj2, 'Gap (%)', 'Frequency', title, 20, 0.75)"
   ]
  }
 ],
 "metadata": {
  "kernelspec": {
   "display_name": "Python 3 (ipykernel)",
   "language": "python",
   "name": "python3"
  },
  "language_info": {
   "codemirror_mode": {
    "name": "ipython",
    "version": 3
   },
   "file_extension": ".py",
   "mimetype": "text/x-python",
   "name": "python",
   "nbconvert_exporter": "python",
   "pygments_lexer": "ipython3",
   "version": "3.9.7"
  }
 },
 "nbformat": 4,
 "nbformat_minor": 5
}
