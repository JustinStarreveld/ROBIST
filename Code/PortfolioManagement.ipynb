{
 "cells": [
  {
   "cell_type": "code",
   "execution_count": 5,
   "id": "64b1277d",
   "metadata": {},
   "outputs": [],
   "source": [
    "# Import packages\n",
    "import numpy as np\n",
    "import cvxpy as cp\n",
    "import time\n",
    "import math\n",
    "\n",
    "import phi_divergence as phi\n",
    "import robust_sampling as rs\n",
    "import dataio"
   ]
  },
  {
   "cell_type": "markdown",
   "id": "9496bc27",
   "metadata": {},
   "source": [
    "The problem we examine is as follows:\n",
    "\n",
    "\\begin{align}\n",
    "\\label{math_form:examples:pm2}\n",
    "    \\max_{\\mathbf{x}}&~\\theta \\\\\n",
    "    \\text{s.t.}&~\\mathbf{r}^T \\mathbf{x} \\geq \\theta \\\\\n",
    "    &~\\mathbf{e}^T \\mathbf{x} = 1, \\\\\n",
    "    &~\\mathbf{x} \\geq 0,\n",
    "\\end{align}\n",
    "\n",
    "where $\\mathbf{x}, \\mathbf{r} \\in \\mathbb{R}^{k}$"
   ]
  },
  {
   "cell_type": "markdown",
   "id": "42ac261d",
   "metadata": {},
   "source": [
    "We randomly sample $N$ returns for k assets, which is done in the following way:\n",
    "\n",
    "\\begin{equation}\n",
    "\\tilde{r}_{i}=\\left\\{\\begin{array}{ll}\n",
    "\\frac{\\sqrt{\\left(1-\\gamma_{i}\\right) \\gamma_{i}}}{\\gamma_{i}} & \\text { with probability } \\gamma_{i} \\\\[2mm]\n",
    "-\\frac{\\sqrt{\\left(1-\\gamma_{i}\\right) \\gamma_{i}}}{1-\\gamma_{i}} & \\text { with probability } 1-\\gamma_{i}\n",
    "\\end{array}, \\quad \\gamma_{i}=\\frac{1}{2}\\left(1+\\frac{i}{k + 1}\\right), \\quad i=1, \\ldots, k. \\right.\n",
    "\\end{equation}"
   ]
  },
  {
   "cell_type": "code",
   "execution_count": 6,
   "id": "b21db292",
   "metadata": {},
   "outputs": [],
   "source": [
    "# Problem specific functions:\n",
    "def generate_data(k, N):\n",
    "    np.random.seed(1)\n",
    "    gamma = np.fromiter(((1/2)*(1 + (i/(k+1))) for i in range(1,k+1)), float)\n",
    "    return_pos = np.fromiter(((math.sqrt((1-gamma[i])*gamma[i])/gamma[i]) for i in range(0,k)), float)\n",
    "    return_neg = np.fromiter((-(math.sqrt((1-gamma[i])*gamma[i])/(1-gamma[i])) for i in range(0,k)), float)\n",
    "    returns = np.empty([N,k])\n",
    "    for n in range(0, N):\n",
    "        for i in range(0, k):\n",
    "            prob = np.random.uniform()\n",
    "            if prob <= gamma[i]:\n",
    "                returns[n, i] = return_pos[i]\n",
    "            else:\n",
    "                returns[n, i] = return_neg[i]\n",
    "    return returns \n",
    "\n",
    "def solve_SCP(S, time_limit):\n",
    "    k = S.shape[1]\n",
    "    x = cp.Variable(k, nonneg = True)\n",
    "    theta = cp.Variable(1)\n",
    "    constraints = [theta - (S @ x) <= 0, cp.sum(x) == 1]\n",
    "    obj = cp.Maximize(theta)\n",
    "    prob = cp.Problem(obj,constraints)\n",
    "    prob.solve(solver=cp.MOSEK, mosek_params = {mosek.dparam.optimizer_max_time: time_limit})\n",
    "    x_value = np.concatenate((theta.value,x.value)) # Combine x and theta into 1 single solution vector\n",
    "    return(x_value, prob.value)\n",
    "\n",
    "def uncertain_constraint(S, x):\n",
    "    return x[0] - (S @ x[1:]) # Assume that x[0] contains theta variable "
   ]
  },
  {
   "cell_type": "code",
   "execution_count": 7,
   "id": "70f1a9a3",
   "metadata": {},
   "outputs": [],
   "source": [
    "k = 5\n",
    "N = 10"
   ]
  },
  {
   "cell_type": "code",
   "execution_count": 8,
   "id": "5d5f1475",
   "metadata": {},
   "outputs": [
    {
     "data": {
      "text/plain": [
       "array([[ 0.84515425, -1.41421356,  0.57735027,  0.4472136 ,  0.30151134],\n",
       "       [ 0.84515425,  0.70710678,  0.57735027,  0.4472136 ,  0.30151134],\n",
       "       [ 0.84515425, -1.41421356,  0.57735027, -2.23606798,  0.30151134],\n",
       "       [-1.18321596,  0.70710678,  0.57735027,  0.4472136 ,  0.30151134],\n",
       "       [-1.18321596, -1.41421356,  0.57735027,  0.4472136 ,  0.30151134],\n",
       "       [-1.18321596,  0.70710678,  0.57735027,  0.4472136 ,  0.30151134],\n",
       "       [ 0.84515425,  0.70710678, -1.73205081,  0.4472136 ,  0.30151134],\n",
       "       [ 0.84515425, -1.41421356, -1.73205081,  0.4472136 ,  0.30151134],\n",
       "       [-1.18321596, -1.41421356,  0.57735027,  0.4472136 ,  0.30151134],\n",
       "       [ 0.84515425, -1.41421356,  0.57735027,  0.4472136 ,  0.30151134]])"
      ]
     },
     "execution_count": 8,
     "metadata": {},
     "output_type": "execute_result"
    }
   ],
   "source": [
    "returns = generate_data(k, N)\n",
    "returns"
   ]
  },
  {
   "cell_type": "code",
   "execution_count": 10,
   "id": "990b8ac9",
   "metadata": {},
   "outputs": [
    {
     "data": {
      "text/plain": [
       "5"
      ]
     },
     "execution_count": 10,
     "metadata": {},
     "output_type": "execute_result"
    }
   ],
   "source": [
    "returns.shape[1]"
   ]
  },
  {
   "cell_type": "code",
   "execution_count": 41,
   "id": "254bb229",
   "metadata": {},
   "outputs": [],
   "source": [
    "x, obj = solve_SCP(returns, 60)"
   ]
  },
  {
   "cell_type": "code",
   "execution_count": 42,
   "id": "a2db84bc",
   "metadata": {},
   "outputs": [
    {
     "data": {
      "text/plain": [
       "array([3.01511345e-01, 7.34484430e-13, 1.45647885e-11, 0.00000000e+00,\n",
       "       0.00000000e+00, 1.00000000e+00])"
      ]
     },
     "execution_count": 42,
     "metadata": {},
     "output_type": "execute_result"
    }
   ],
   "source": [
    "x"
   ]
  },
  {
   "cell_type": "code",
   "execution_count": 44,
   "id": "24f53850",
   "metadata": {},
   "outputs": [
    {
     "data": {
      "text/plain": [
       "array([ 2.65815148e-12, -2.82384671e-11,  2.65815148e-12, -2.67486588e-11,\n",
       "        4.14795975e-12, -2.67486588e-11, -2.82384671e-11,  2.65815148e-12,\n",
       "        4.14795975e-12,  2.65815148e-12])"
      ]
     },
     "execution_count": 44,
     "metadata": {},
     "output_type": "execute_result"
    }
   ],
   "source": [
    "x[0] - returns @ x[1:]"
   ]
  },
  {
   "cell_type": "code",
   "execution_count": null,
   "id": "e2745dec",
   "metadata": {},
   "outputs": [],
   "source": []
  },
  {
   "cell_type": "code",
   "execution_count": 5,
   "id": "f62e21d0",
   "metadata": {},
   "outputs": [],
   "source": []
  }
 ],
 "metadata": {
  "kernelspec": {
   "display_name": "Python 3 (ipykernel)",
   "language": "python",
   "name": "python3"
  },
  "language_info": {
   "codemirror_mode": {
    "name": "ipython",
    "version": 3
   },
   "file_extension": ".py",
   "mimetype": "text/x-python",
   "name": "python",
   "nbconvert_exporter": "python",
   "pygments_lexer": "ipython3",
   "version": "3.9.7"
  }
 },
 "nbformat": 4,
 "nbformat_minor": 5
}
