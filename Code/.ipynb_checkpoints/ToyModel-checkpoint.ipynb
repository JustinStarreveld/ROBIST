{
 "cells": [
  {
   "cell_type": "code",
   "execution_count": 1,
   "id": "64b1277d",
   "metadata": {},
   "outputs": [],
   "source": [
    "import numpy as np\n",
    "import pandas as pd\n",
    "import cvxpy as cp\n",
    "import mosek\n",
    "import matplotlib.pyplot as plt\n",
    "import scipy.stats\n",
    "import phi_divergence as phi\n",
    "import time"
   ]
  },
  {
   "cell_type": "code",
   "execution_count": null,
   "id": "549e9955",
   "metadata": {},
   "outputs": [],
   "source": [
    "# Matplotlib settings:\n",
    "# # need to have LaTeX installed, can install with: conda install -c conda-forge miktex\n",
    "# import matplotlib\n",
    "# #import matplotlib.patches as mpatches\n",
    "# from matplotlib.backends.backend_pgf import FigureCanvasPgf\n",
    "# matplotlib.backend_bases.register_backend('pdf', FigureCanvasPgf)\n",
    "\n",
    "# matplotlib.rcParams.update({\n",
    "#     \"pgf.texsystem\": \"pdflatex\",\n",
    "#     'font.family': 'serif',\n",
    "#     'text.usetex': True,\n",
    "#     'pgf.rcfonts': False,\n",
    "# })\n",
    "\n",
    "plt.rcParams['figure.figsize'] = [9, 7]\n",
    "plt.rcParams['figure.dpi'] = 100"
   ]
  },
  {
   "cell_type": "markdown",
   "id": "9496bc27",
   "metadata": {},
   "source": [
    "The toy model we examine is as follows:\n",
    "\n",
    "\\begin{align}\\label{toy_model}\n",
    "    \\begin{split}\n",
    "        \\max_{x_1,x_2\\geq 0}\\{x_1+x_2: \\mathbb{P}^*(\\mathbf{\\xi}\\in [-1,1]^2: \\xi_1x_1+\\xi_2x_2\\leq 1)\\geq \\beta, x_1-x_2\\leq -1, x_1,x_2\\leq 10\\}.\n",
    "    \\end{split}\n",
    "\\end{align}"
   ]
  },
  {
   "cell_type": "code",
   "execution_count": 2,
   "id": "b21db292",
   "metadata": {},
   "outputs": [],
   "source": [
    "def toymodel(Z_arr):\n",
    "    x = cp.Variable(2, nonneg = True)\n",
    "    constraints = [Z_arr @ x <= 1, x[0] <= x[1]-1, x<=10]\n",
    "    obj = cp.Maximize(cp.sum(x))\n",
    "    prob = cp.Problem(obj,constraints)\n",
    "    prob.solve(solver=cp.MOSEK)\n",
    "    return(x.value, prob.value)\n",
    "\n",
    "def toymodel_true(beta, k):\n",
    "    x = cp.Variable(k, nonneg = True)\n",
    "    constraints = [(1-2*beta)*x[k-1] + 1 >= 0, cp.sum(x[0:(k-1)]) <= x[k-1]-1, x<=10]\n",
    "    obj = cp.Maximize(cp.sum(x))\n",
    "    prob = cp.Problem(obj,constraints)\n",
    "    prob.solve(solver=cp.MOSEK)\n",
    "    return(x.value, prob.value)\n",
    "\n",
    "def toymodel_large(Z_arr, k, time_limit):\n",
    "    x = cp.Variable(k, nonneg = True)\n",
    "    constraints = [Z_arr @ x <= 1, cp.sum(x[0:(k-1)]) <= x[k-1]-1, x<=10]\n",
    "    obj = cp.Maximize(cp.sum(x))\n",
    "    prob = cp.Problem(obj,constraints)\n",
    "    prob.solve(solver=cp.MOSEK, mosek_params = {mosek.dparam.optimizer_max_time: time_limit})\n",
    "    return(x.value, prob.value)\n",
    "\n",
    "def lowbound(p,r, par, phi_div):\n",
    "    q = cp.Variable(2, nonneg = True)\n",
    "    constraints = [cp.sum(q) == 1]\n",
    "    constraints = phi_div(p,q,r,par,constraints)\n",
    "    obj = cp.Minimize(q[0])\n",
    "    prob = cp.Problem(obj,constraints)\n",
    "    prob.solve(solver=cp.MOSEK)\n",
    "    return(prob.value)\n",
    "\n",
    "def opt_set(data, k, F, M, time_limit):\n",
    "    N = len(data)\n",
    "    x = cp.Variable(k, nonneg = True)\n",
    "    y = cp.Variable(N, boolean = True)\n",
    "    constraints = [cp.sum(x[0:(k-1)])<= x[k-1]-1, x <= 10, data @ x <= 1 + (1-y)*M, cp.sum(y) >= F]\n",
    "    obj = cp.Maximize(cp.sum(x))\n",
    "    prob = cp.Problem(obj,constraints)\n",
    "    prob.solve(solver=cp.MOSEK, mosek_params = {mosek.dparam.optimizer_max_time: time_limit})\n",
    "    return(x.value, y.value, prob.value)"
   ]
  },
  {
   "cell_type": "code",
   "execution_count": null,
   "id": "fd4c4d4a",
   "metadata": {},
   "outputs": [],
   "source": [
    "def plot_iter(num_iter, data, Z_arr, x, obj, lb, save_plot, plot_type, show_legend):\n",
    "    plt.plot(data[:,0],data[:,1],'ok',markersize=1, label = 'All scenarios')\n",
    "    \n",
    "    if Z_arr != None:\n",
    "        plt.plot(Z_arr[:,0],Z_arr[:,1], color='blue', marker='+', linestyle='',\n",
    "                 markersize=10, label = 'Chosen scenarios')\n",
    "\n",
    "    # Add constraint to plot, given solution x\n",
    "    constraint_x = np.linspace(-1, 1, 1000)\n",
    "    constraint_y = (1 - x[0]*constraint_x) / x[1]\n",
    "    plt.plot(constraint_x, constraint_y, '--r', label = r'$\\xi_{1}x_{1}^{*}+\\xi_{2}x_{2}^{*}\\leq 1$' ,alpha=1)\n",
    "\n",
    "    plt.title('Iteration '+str(num_iter)+': Solution = (' + str(round(x[0],3)) + ', ' \n",
    "              + str(round(x[1],3)) + '), Objective value = ' + str(round(obj,3)) \n",
    "              + ', Lower bound = '+ str(round(lb,3)))\n",
    "    plt.xlabel(r'$\\xi_1$')\n",
    "    plt.ylabel(r'$\\xi_2$')\n",
    "    \n",
    "    if show_legend:\n",
    "        plt.legend(bbox_to_anchor=(1.01, 0.6), loc='upper left')\n",
    "    \n",
    "    plt.tight_layout()\n",
    "    \n",
    "    if save_plot:\n",
    "        plot_name = 'Figures/ToyModel/Scenarios_wConstraint_iter='+str(num_iter)+'_N=' + str(N) + '_alpha=' + str(alpha) + \"_beta=\"+ str(beta)\n",
    "        plt.savefig(plot_name + '.' + plot_type)\n",
    "    \n",
    "    plt.show()"
   ]
  },
  {
   "cell_type": "code",
   "execution_count": null,
   "id": "f62e21d0",
   "metadata": {},
   "outputs": [],
   "source": [
    "# For plotting a singular solution\n",
    "def plot_solution(name, data, Z_arr, x, obj, lb, save_plot, plot_type, show_legend):\n",
    "    plt.plot(data[:,0],data[:,1],'ok',markersize=1, label = 'All scenarios')\n",
    "    \n",
    "    if Z_arr != None:\n",
    "        plt.plot(Z_arr[:,0],Z_arr[:,1], color='blue', marker='+', linestyle='',\n",
    "                 markersize=10, label = 'Chosen scenarios')\n",
    "\n",
    "    # Add constraint to plot, given solution x\n",
    "    constraint_x = np.linspace(-1, 1, 1000)\n",
    "    constraint_y = (1 - x[0]*constraint_x) / x[1]\n",
    "    plt.plot(constraint_x, constraint_y, '--r', label = r'$\\xi_{1}x_{1}^{*}+\\xi_{2}x_{2}^{*}\\leq 1$' ,alpha=1)\n",
    "\n",
    "    plt.title(name +': Solution = (' + str(round(x[0],3)) + ', ' \n",
    "              + str(round(x[1],3)) + '), Objective value = ' + str(round(obj,3)) \n",
    "              + ', Lower bound = '+ str(round(lb,3)))\n",
    "    plt.xlabel(r'$\\xi_1$')\n",
    "    plt.ylabel(r'$\\xi_2$')\n",
    "    \n",
    "    if show_legend:\n",
    "        plt.legend(bbox_to_anchor=(1.01, 0.6), loc='upper left')\n",
    "    \n",
    "    plt.tight_layout()\n",
    "    \n",
    "    if save_plot:\n",
    "        plot_name = 'Figures/ToyModel/Scenarios_wConstraint_'+name+'_N=' + str(N) + '_alpha=' + str(alpha) + \"_beta=\"+ str(beta)\n",
    "        plt.savefig(plot_name + '.' + plot_type)\n",
    "    \n",
    "    plt.show()"
   ]
  },
  {
   "cell_type": "code",
   "execution_count": 3,
   "id": "82a8b832",
   "metadata": {},
   "outputs": [],
   "source": [
    "# Set parameter values\n",
    "par = 1\n",
    "phi_div = phi.mod_chi2_cut\n",
    "k = 10\n",
    "N = 100\n",
    "phi_dot = 1\n",
    "alpha = 0.1\n",
    "beta = 0.9\n",
    "r = phi_dot/(2*N)*scipy.stats.chi2.ppf(1-alpha, 1)\n",
    "time_limit_mosek = 10*60 #in seconds \n",
    "time_limit_alg = 10*60"
   ]
  },
  {
   "cell_type": "code",
   "execution_count": 4,
   "id": "a31111bb",
   "metadata": {},
   "outputs": [],
   "source": [
    "# Generate data\n",
    "Z_nominal = np.array([[0] * k])\n",
    "np.random.seed(1)\n",
    "data = np.random.uniform(-1,1,size = (N-1,k)) # generate N-1 scenarios\n",
    "data = np.concatenate((data,Z_nominal)) # add nominal case"
   ]
  },
  {
   "cell_type": "code",
   "execution_count": null,
   "id": "5e49f1d8",
   "metadata": {},
   "outputs": [],
   "source": [
    "# Check if toymodel_large can be solved for nominal case\n",
    "toymodel_large(Z_nominal, k, time_limit_mosek)"
   ]
  },
  {
   "cell_type": "code",
   "execution_count": 11,
   "id": "ade138ef",
   "metadata": {},
   "outputs": [
    {
     "name": "stdout",
     "output_type": "stream",
     "text": [
      "1.4173179832172347\n",
      "0.9003241686937274\n",
      "true prob 0.9136816119945605\n",
      "4\n",
      "5\n"
     ]
    }
   ],
   "source": [
    "# Algorithm 1 applied to toymodel\n",
    "# (strategy: add N*(beta-lb)-th scenario)\n",
    "Z_arr = Z_nominal\n",
    "lb = -np.inf\n",
    "num_iter = 0\n",
    "\n",
    "start_time = time.time()\n",
    "\n",
    "while lb < beta:\n",
    "    #[x, obj] = toymodel(Z_arr)\n",
    "    [x, obj] = toymodel_large(Z_arr, k, time_limit_mosek)\n",
    "    constr = data.dot(x)\n",
    "    p = np.array([len(constr[constr<=1])/N,len(constr[constr>1])/N])\n",
    "    lb = lowbound(p,r, par, phi_div)\n",
    "    gap = np.ceil(N*(beta-lb)).astype(int)\n",
    "    \n",
    "    if gap > 0:\n",
    "        vio_sort = np.sort(constr[constr>1])    #the violations are ranked here\n",
    "        vio_value = vio_sort[gap-1]\n",
    "        ind = np.where(constr == vio_value)[0][0]   # the N*(beta-lb)-th scenario is added\n",
    "        Z_arr = np.append(Z_arr, np.array([data[ind]]),axis = 0)\n",
    "        num_iter += 1\n",
    "        \n",
    "    if (time.time() - start_time) > time_limit_alg:\n",
    "        break\n",
    "\n",
    "print(obj)\n",
    "print(lb)\n",
    "print('true prob', 1/2+1/(2*x[k-1]))\n",
    "print(num_iter)\n",
    "print(len(Z_arr))"
   ]
  },
  {
   "cell_type": "code",
   "execution_count": 6,
   "id": "80b82a24",
   "metadata": {
    "scrolled": true
   },
   "outputs": [
    {
     "name": "stdout",
     "output_type": "stream",
     "text": [
      "14.798174015530996\n",
      "0.6049035353063349\n",
      "true prob 0.563298454556641\n",
      "7176\n",
      "7177\n"
     ]
    }
   ],
   "source": [
    "# Algorithm 1 applied to toymodel\n",
    "# (strategy: add smallest violation scenario)\n",
    "Z_arr = Z_nominal\n",
    "lb = -np.inf\n",
    "num_iter = 0\n",
    "\n",
    "time_limit_alg = 10*60\n",
    "start_time = time.time()\n",
    "\n",
    "num_iter_to_plot = -1\n",
    "special_iter_to_plot = [50,100,150,200]\n",
    "save_plot = True\n",
    "plot_type = 'eps'\n",
    "show_legend = False\n",
    "\n",
    "while lb < beta:\n",
    "    #[x, obj] = toymodel(Z_arr)\n",
    "    [x, obj] = toymodel_large(Z_arr, k, time_limit_mosek)\n",
    "    constr = data.dot(x)\n",
    "    p = np.array([len(constr[constr<=1])/N,len(constr[constr>1])/N])\n",
    "    lb = lowbound(p,r, par, phi_div)\n",
    "    \n",
    "    if num_iter_to_plot >= 0:\n",
    "        if num_iter <= num_iter_to_plot or num_iter in special_iter_to_plot:\n",
    "            plot_iter(num_iter, data, Z_arr, x, obj, lb, save_plot, plot_type, show_legend)\n",
    "    \n",
    "    if lb < beta and len(constr[constr>1]) != 0:\n",
    "        vio_min = np.min(constr[constr>1])        # the least violated scenario is added\n",
    "        ind = np.where(constr == vio_min)[0][0]\n",
    "        Z_arr = np.append(Z_arr, np.array([data[ind]]), axis = 0)\n",
    "        num_iter += 1\n",
    "        \n",
    "    if (time.time() - start_time) > time_limit_alg:\n",
    "        break\n",
    "        \n",
    "print(obj)\n",
    "print(lb)\n",
    "print('true prob', 1/2+1/(2*x[k-1]))\n",
    "print(num_iter)\n",
    "print(len(Z_arr))"
   ]
  },
  {
   "cell_type": "code",
   "execution_count": 18,
   "id": "23285bf2",
   "metadata": {},
   "outputs": [
    {
     "data": {
      "text/plain": [
       "array([1.36812853, 1.13691617, 1.        , 1.06559138, 1.21235395,\n",
       "       1.18822245, 1.34209399])"
      ]
     },
     "execution_count": 18,
     "metadata": {},
     "output_type": "execute_result"
    }
   ],
   "source": [
    "constr[constr>1]"
   ]
  },
  {
   "cell_type": "code",
   "execution_count": null,
   "id": "b3502e7a",
   "metadata": {},
   "outputs": [],
   "source": [
    "# Plot final solution found by algorithm\n",
    "plot_solution(num_iter, data, Z_arr, x, obj, lb, save_plot, plot_type, show_legend)"
   ]
  },
  {
   "cell_type": "code",
   "execution_count": null,
   "id": "46db1778",
   "metadata": {},
   "outputs": [],
   "source": [
    "# Plot optimal solution with true probability constraint\n",
    "[x_true, obj_true] = toymodel_true(beta)\n",
    "constr = data.dot(x_true)\n",
    "p = np.array([len(constr[constr<=1])/N,len(constr[constr>1])/N])\n",
    "lb = lowbound(p,r, par, phi_div)\n",
    "print(p)\n",
    "print(lb)\n",
    "print(obj_true)\n",
    "\n",
    "plot_solution(\"TrueProb\", data, None, x_true, obj_true, lb, True, 'eps', True)"
   ]
  },
  {
   "cell_type": "code",
   "execution_count": null,
   "id": "7a09f354",
   "metadata": {
    "scrolled": true
   },
   "outputs": [],
   "source": [
    "# Use bisection-esque search to determine minimum p_1 for which lowbound >= beta\n",
    "p_hat = np.array([beta, 1-beta])\n",
    "delta = 0.1\n",
    "epsilon = 0.00001\n",
    "l_hat = lowbound(p_hat, r, par, phi_div)\n",
    "p_hat_prev = p_hat\n",
    "while True:\n",
    "    if p_hat[0] + delta > 1 - epsilon:\n",
    "        delta = delta/10\n",
    "    p_hat = p_hat + np.array([delta, -delta])\n",
    "    l_hat = lowbound(p_hat, r, par, phi_div)\n",
    "    #print('p :', p_hat, ' l :', l_hat)\n",
    "    if l_hat < beta:\n",
    "        continue\n",
    "    else:\n",
    "        delta = delta / 10\n",
    "        if delta < epsilon:\n",
    "            break\n",
    "        else:\n",
    "            p_hat = p_hat_prev\n",
    "print('FINAL: p :', p_hat, ' l :', l_hat)\n",
    "p_min = p_hat\n",
    "l_min = l_hat"
   ]
  },
  {
   "cell_type": "code",
   "execution_count": null,
   "id": "83d5dd69",
   "metadata": {},
   "outputs": [],
   "source": [
    "M = 1000\n",
    "F = np.ceil(p_min * N)\n",
    "x_val, y_val, prob_val = opt_set(data, k, F, M)\n",
    "print(x_val, np.sum(y_val), prob_val)"
   ]
  },
  {
   "cell_type": "code",
   "execution_count": null,
   "id": "4d6d37c0",
   "metadata": {},
   "outputs": [],
   "source": [
    "plot_solution(\"BestPossible\", data, None, x_val, prob_val, l_min, True, 'eps', False)"
   ]
  }
 ],
 "metadata": {
  "kernelspec": {
   "display_name": "Python 3 (ipykernel)",
   "language": "python",
   "name": "python3"
  },
  "language_info": {
   "codemirror_mode": {
    "name": "ipython",
    "version": 3
   },
   "file_extension": ".py",
   "mimetype": "text/x-python",
   "name": "python",
   "nbconvert_exporter": "python",
   "pygments_lexer": "ipython3",
   "version": "3.9.7"
  }
 },
 "nbformat": 4,
 "nbformat_minor": 5
}
