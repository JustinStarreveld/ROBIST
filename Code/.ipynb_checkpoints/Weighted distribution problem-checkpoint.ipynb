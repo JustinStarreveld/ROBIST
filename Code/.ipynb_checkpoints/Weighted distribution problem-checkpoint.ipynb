{
 "cells": [
  {
   "cell_type": "code",
   "execution_count": 1,
   "id": "64b1277d",
   "metadata": {},
   "outputs": [],
   "source": [
    "# Import packages\n",
    "import numpy as np\n",
    "import cvxpy as cp\n",
    "import mosek\n",
    "import time\n",
    "import math\n",
    "from sklearn.model_selection import train_test_split\n",
    "\n",
    "import phi_divergence as phi\n",
    "import robust_sampling as rs\n",
    "import dataio\n",
    "import util"
   ]
  },
  {
   "cell_type": "markdown",
   "id": "9496bc27",
   "metadata": {},
   "source": [
    "The problem we examine is as follows:\n",
    "\n",
    "..."
   ]
  },
  {
   "cell_type": "code",
   "execution_count": 24,
   "id": "b21db292",
   "metadata": {},
   "outputs": [],
   "source": [
    "# Problem specific functions:\n",
    "def generate_data(random_seed, k, m, N):\n",
    "    # First generate demand vector\n",
    "    \n",
    "    # Then focus on production efficient\n",
    "    \n",
    "    return data \n",
    "\n",
    "def generate_data_with_nominal(random_seed, k, N):\n",
    "    ...\n",
    "    return data\n",
    "\n",
    "def solve_P_SCP(k, S, settings):\n",
    "    # https://www.cvxpy.org/version/1.1/tutorial/functions/index.html#elementwise\n",
    "    # use maximum(x, y) and minimum(x, y) functions with cvxpy?\n",
    "    ...\n",
    "    return (x.value, prob.value)\n",
    "\n",
    "def unc_func(data, x, settings):\n",
    "    return ...\n",
    "\n",
    "def compute_prob_add(lhs_constr):\n",
    "    method = 'deterministic_w_1%'\n",
    "    if method == 'deterministic':\n",
    "        if lhs_constr <= 0:\n",
    "            return 0\n",
    "        else:\n",
    "            return 1\n",
    "    elif method == 'deterministic_w_1%':\n",
    "        if lhs_constr <= 0:\n",
    "            return 0.01\n",
    "        else:\n",
    "            return 0.99\n",
    "    elif method == 'sigmoid':\n",
    "        return util.compute_prob_add_sigmoid(lhs_constr)\n",
    "    else:\n",
    "        print('Error: do not recognize method in \"compute_prob_add\" function')\n",
    "        return 1\n",
    "    \n",
    "def stopping_cond(stop_info, **kwargs):\n",
    "    if (kwargs.get('elapsed_time',0) >= stop_info.get('max_elapsed_time', 10e12) \n",
    "        or kwargs.get('num_solutions',0) >= stop_info.get('max_num_solutions', 10e12)\n",
    "        or kwargs.get('num_iterations',0) >= stop_info.get('max_num_iterations', 10e12)):\n",
    "        return True\n",
    "    else:\n",
    "        return False\n",
    "\n",
    "def analytic_eval(x, problem_info):\n",
    "    return ..."
   ]
  }
 ],
 "metadata": {
  "kernelspec": {
   "display_name": "Python 3 (ipykernel)",
   "language": "python",
   "name": "python3"
  },
  "language_info": {
   "codemirror_mode": {
    "name": "ipython",
    "version": 3
   },
   "file_extension": ".py",
   "mimetype": "text/x-python",
   "name": "python",
   "nbconvert_exporter": "python",
   "pygments_lexer": "ipython3",
   "version": "3.9.7"
  }
 },
 "nbformat": 4,
 "nbformat_minor": 5
}
