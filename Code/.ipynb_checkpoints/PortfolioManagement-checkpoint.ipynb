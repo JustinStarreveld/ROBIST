{
 "cells": [
  {
   "cell_type": "code",
   "execution_count": null,
   "id": "64b1277d",
   "metadata": {},
   "outputs": [],
   "source": [
    "# Import packages\n",
    "import numpy as np\n",
    "import cvxpy as cp\n",
    "import mosek\n",
    "import time\n",
    "import math\n",
    "from sklearn.model_selection import train_test_split\n",
    "\n",
    "import phi_divergence as phi\n",
    "import robust_sampling as rs\n",
    "import dataio\n",
    "import util"
   ]
  },
  {
   "cell_type": "markdown",
   "id": "9496bc27",
   "metadata": {},
   "source": [
    "The problem we examine is as follows:\n",
    "\n",
    "\\begin{align}\n",
    "\\label{math_form:examples:pm2}\n",
    "    \\max_{\\mathbf{x}}&~\\theta \\\\\n",
    "    \\text{s.t.}&~\\mathbf{r}^T \\mathbf{x} \\geq \\theta \\\\\n",
    "    &~\\mathbf{e}^T \\mathbf{x} = 1, \\\\\n",
    "    &~\\mathbf{x} \\geq 0,\n",
    "\\end{align}\n",
    "\n",
    "where $\\mathbf{x}, \\mathbf{r} \\in \\mathbb{R}^{k}$"
   ]
  },
  {
   "cell_type": "markdown",
   "id": "42ac261d",
   "metadata": {},
   "source": [
    "In order to compare with Bertsimas, D., Gupta, V., & Kallus, N. (2018), we randomly generate $N$ synthetic returns for k assets, which is done as in Natarajan et al. (2008):\n",
    "\n",
    "\\begin{equation}\n",
    "\\tilde{r}_{i}=\\left\\{\\begin{array}{ll}\n",
    "\\frac{\\sqrt{\\left(1-\\gamma_{i}\\right) \\gamma_{i}}}{\\gamma_{i}} & \\text { with probability } \\gamma_{i} \\\\[2mm]\n",
    "-\\frac{\\sqrt{\\left(1-\\gamma_{i}\\right) \\gamma_{i}}}{1-\\gamma_{i}} & \\text { with probability } 1-\\gamma_{i}\n",
    "\\end{array}, \\quad \\gamma_{i}=\\frac{1}{2}\\left(1+\\frac{i}{k + 1}\\right), \\quad i=1, \\ldots, k. \\right.\n",
    "\\end{equation}"
   ]
  },
  {
   "cell_type": "code",
   "execution_count": null,
   "id": "b21db292",
   "metadata": {},
   "outputs": [],
   "source": [
    "# Problem specific functions:\n",
    "def generate_data(random_seed, k, N):\n",
    "    np.random.seed(random_seed)\n",
    "    gamma = np.fromiter((((1/2)*(1 + (i/(k+1)))) for i in range(1,k+1)), float)\n",
    "    return_pos = np.fromiter(((math.sqrt((1-gamma[i])*gamma[i])/gamma[i]) for i in range(0,k)), float)\n",
    "    return_neg = np.fromiter((-(math.sqrt((1-gamma[i])*gamma[i])/(1-gamma[i])) for i in range(0,k)), float)\n",
    "    data = np.empty([N,k])\n",
    "    for n in range(0, N):\n",
    "        for i in range(0, k):\n",
    "            prob = np.random.uniform()\n",
    "            if prob <= gamma[i]:\n",
    "                data[n, i] = return_pos[i]\n",
    "            else:\n",
    "                data[n, i] = return_neg[i]\n",
    "    return data \n",
    "\n",
    "def solve_SCP(S, time_limit):\n",
    "    k = S.shape[1]\n",
    "    x = cp.Variable(k, nonneg = True)\n",
    "    theta = cp.Variable(1)\n",
    "    constraints = [theta - (S @ x) <= 0, cp.sum(x) == 1]\n",
    "    obj = cp.Maximize(theta) # equivalent to min theta\n",
    "    prob = cp.Problem(obj,constraints)\n",
    "    prob.solve(solver=cp.MOSEK, mosek_params = {mosek.dparam.optimizer_max_time: time_limit})\n",
    "    x_value = np.concatenate((theta.value,x.value)) # Combine x and theta into 1 single solution vector\n",
    "    return(x_value, prob.value)\n",
    "\n",
    "def uncertain_constraint(S, x):\n",
    "    return (x[0] - np.dot(S,x[1:])) # Assume that x[0] contains theta variable "
   ]
  },
  {
   "cell_type": "code",
   "execution_count": null,
   "id": "1b561d77",
   "metadata": {},
   "outputs": [],
   "source": [
    "# Check gamma values:\n",
    "k = 10\n",
    "gamma = np.fromiter((((1/2)*(1 + (i/(k+1)))) for i in range(1,k+1)), float)\n",
    "return_pos = np.fromiter(((math.sqrt((1-gamma[i])*gamma[i])/gamma[i]) for i in range(0,k)), float)\n",
    "return_neg = np.fromiter((-(math.sqrt((1-gamma[i])*gamma[i])/(1-gamma[i])) for i in range(0,k)), float)\n",
    "print(gamma)\n",
    "print(return_pos)\n",
    "print(return_neg)"
   ]
  },
  {
   "cell_type": "code",
   "execution_count": null,
   "id": "50cd712a",
   "metadata": {},
   "outputs": [],
   "source": [
    "# Set parameter values (as in Bertsimas paper)\n",
    "k = 10\n",
    "alpha = 0.10\n",
    "beta = 0.90\n",
    "N_total = 500 \n",
    "N_train = int(N_total / 2)\n",
    "N_test = N_total - N_train"
   ]
  },
  {
   "cell_type": "code",
   "execution_count": null,
   "id": "e2745dec",
   "metadata": {},
   "outputs": [],
   "source": [
    "# Set other parameter values\n",
    "par = 1\n",
    "phi_div = phi.mod_chi2_cut\n",
    "phi_dot = 2\n",
    "numeric_precision = 1e-6 # To correct for floating-point math operations"
   ]
  },
  {
   "cell_type": "code",
   "execution_count": null,
   "id": "f62e21d0",
   "metadata": {},
   "outputs": [],
   "source": [
    "# Get generated data\n",
    "random_seed = 3\n",
    "data = generate_data(random_seed, k, N_total)               \n",
    "data_train, data_test = train_test_split(data, train_size=(N_train/N_total), random_state=random_seed)"
   ]
  },
  {
   "cell_type": "code",
   "execution_count": null,
   "id": "25da1b83",
   "metadata": {},
   "outputs": [],
   "source": [
    "# Run RS algorithms\n",
    "time_limit_search = 0.1*60 # in seconds (time provided to search algorithm)\n",
    "time_limit_solve = 5*60 # in seconds (for individuals solves of SCP)\n",
    "max_nr_solutions = 10000 # for easy problems with long time limits, we may want extra restriction\n",
    "add_remove_threshold = 0.00 # This determines when randomness is introduced in add/removal decision\n",
    "\n",
    "add_strategy = 'random_vio'\n",
    "remove_strategy = 'random_active'\n",
    "clean_strategy = (15, 'all_inactive')\n",
    "\n",
    "runtime_search, num_iter, solutions = rs.search_alg(data_train, N_test, beta, alpha, time_limit_search, time_limit_solve, \n",
    "                                                   max_nr_solutions, add_strategy, remove_strategy, clean_strategy, \n",
    "                                                   add_remove_threshold, \n",
    "                                                   par, phi_div, phi_dot, numeric_precision,\n",
    "                                                   solve_SCP, uncertain_constraint, random_seed)\n",
    "\n",
    "runtime_eval, best_sol, pareto_solutions = rs.evaluate_alg(solutions, data_test, beta, alpha, par, phi_div, phi_dot, \n",
    "                                                           uncertain_constraint, numeric_precision)"
   ]
  },
  {
   "cell_type": "code",
   "execution_count": null,
   "id": "7baf3420",
   "metadata": {},
   "outputs": [],
   "source": [
    "num_iter"
   ]
  },
  {
   "cell_type": "code",
   "execution_count": null,
   "id": "ed32fbed",
   "metadata": {
    "scrolled": true
   },
   "outputs": [],
   "source": [
    "runtime_eval"
   ]
  },
  {
   "cell_type": "code",
   "execution_count": null,
   "id": "429175a2",
   "metadata": {},
   "outputs": [],
   "source": [
    "dataio.print_solution_info(best_sol)"
   ]
  },
  {
   "cell_type": "code",
   "execution_count": null,
   "id": "3dca9f0f",
   "metadata": {},
   "outputs": [],
   "source": [
    "VaR_bound = best_sol['sol'][0]\n",
    "VaR_bound"
   ]
  },
  {
   "cell_type": "code",
   "execution_count": null,
   "id": "d127fc30",
   "metadata": {},
   "outputs": [],
   "source": [
    "best_sol['sol'][1:]"
   ]
  },
  {
   "cell_type": "code",
   "execution_count": null,
   "id": "78849f94",
   "metadata": {
    "scrolled": true
   },
   "outputs": [],
   "source": [
    "returns_test = np.dot(data_test, best_sol['sol'][1:])"
   ]
  },
  {
   "cell_type": "code",
   "execution_count": null,
   "id": "6e9a97aa",
   "metadata": {},
   "outputs": [],
   "source": [
    "# This should be the emperical VaR observed on test data \n",
    "np.percentile(a=returns_test, q=100*(1-beta), method='inverted_cdf')"
   ]
  },
  {
   "cell_type": "code",
   "execution_count": null,
   "id": "8a61c4f3",
   "metadata": {},
   "outputs": [],
   "source": [
    "len(solutions)"
   ]
  },
  {
   "cell_type": "code",
   "execution_count": null,
   "id": "e46138e7",
   "metadata": {},
   "outputs": [],
   "source": [
    "len(pareto_solutions)"
   ]
  },
  {
   "cell_type": "code",
   "execution_count": null,
   "id": "f287d75d",
   "metadata": {
    "scrolled": false
   },
   "outputs": [],
   "source": [
    "dataio.plot_pareto_curve(pareto_solutions, beta, None, None, None, None)"
   ]
  },
  {
   "cell_type": "code",
   "execution_count": null,
   "id": "6c502150",
   "metadata": {
    "scrolled": false
   },
   "outputs": [],
   "source": [
    "dataio.plot_pareto_curve(pareto_solutions, beta, None, None, None, None)"
   ]
  },
  {
   "cell_type": "code",
   "execution_count": null,
   "id": "de86a966",
   "metadata": {
    "scrolled": false
   },
   "outputs": [],
   "source": [
    "dataio.plot_obj_over_time(solutions, best_sol, None, None, None, None)"
   ]
  },
  {
   "cell_type": "code",
   "execution_count": null,
   "id": "adb9e83c",
   "metadata": {
    "scrolled": false
   },
   "outputs": [],
   "source": [
    "dataio.plot_size_set_over_time(solutions, best_sol, None, None, None, None)"
   ]
  },
  {
   "cell_type": "markdown",
   "id": "1433f0c8",
   "metadata": {},
   "source": [
    "# The following cells are used to obtain output and write to latex tables"
   ]
  },
  {
   "cell_type": "code",
   "execution_count": null,
   "id": "286d66aa",
   "metadata": {},
   "outputs": [],
   "source": [
    "headers = ['seed', \n",
    "           'sol', 'obj', 'lb_{train}', 'lb_{test}', 'True Prob.', 'True VaR', 'True CVaR',\n",
    "           '\\#Iter.~(add)', '\\#Iter.~(remove)', '\\#Iter.~(clean)', '$|\\mathcal{X}|$',\n",
    "           '$|\\mathcal{S}_{max}|$', 'Time Found',\n",
    "          'N_{Campi}', 'obj_{Campi}', 'solvetime_{Campi}']\n",
    "\n",
    "output_data = {}\n",
    "\n",
    "# Set parameter values (as in Bertsimas paper)\n",
    "k = 10\n",
    "alpha = 0.10\n",
    "#alpha = 0.000001\n",
    "beta = 0.90\n",
    "N_total = 2000 \n",
    "N_train = int(N_total / 2)\n",
    "N_test = N_total - N_train\n",
    "N_campi = util.determine_campi_N_min(k, beta, alpha)\n",
    "\n",
    "N_eval = 1000000\n",
    "seed_eval = 987\n",
    "data_eval = generate_data(seed_eval, k, N_eval)\n",
    "\n",
    "# Other parameter values\n",
    "par = 1\n",
    "phi_div = phi.mod_chi2_cut\n",
    "phi_dot = 2\n",
    "numeric_precision = 1e-6 # To correct for floating-point math operations\n",
    "\n",
    "# Alg parameters\n",
    "time_limit_search = 1*60 # in seconds (time provided to search algorithm)\n",
    "time_limit_solve = 5*60 # in seconds (for individuals solves of SCP)\n",
    "max_nr_solutions = 10000 # for easy problems with long time limits, we may want extra restriction\n",
    "add_remove_threshold = 0.00 # This determines when randomness is introduced in add/removal decision\n",
    "add_strategy = 'random_vio'\n",
    "remove_strategy = 'random_active'\n",
    "clean_strategy = (10, 'all_inactive')\n",
    "\n",
    "random_seed_settings = [i for i in range(1, 11)]\n",
    "\n",
    "run_count = 0\n",
    "for random_seed in random_seed_settings:\n",
    "    \n",
    "    data = generate_data(random_seed, k, N_total)               \n",
    "    data_train, data_test = train_test_split(data, train_size=(N_train/N_total), random_state=random_seed)\n",
    "    data_campi = generate_data(random_seed, k, N_campi)\n",
    "    campi_runtime, campi_x, campi_obj = util.solve_with_campi_N(solve_SCP, data_campi, time_limit_solve)\n",
    "    \n",
    "\n",
    "    runtime_search, num_iter, solutions = rs.search_alg(data_train, N_test, beta, alpha, time_limit_search, time_limit_solve, \n",
    "                                                       max_nr_solutions, add_strategy, remove_strategy, clean_strategy, \n",
    "                                                       add_remove_threshold,  \n",
    "                                                       par, phi_div, phi_dot, numeric_precision,\n",
    "                                                       solve_SCP, uncertain_constraint, random_seed)\n",
    "\n",
    "    runtime_eval, best_sol, pareto_solutions = rs.evaluate_alg(solutions, data_test, beta, alpha, par, phi_div, phi_dot, \n",
    "                                                               uncertain_constraint, numeric_precision)\n",
    "    \n",
    "    # Get \"true\" performance using eval_data\n",
    "    constr = uncertain_constraint(data_eval, best_sol['sol'])\n",
    "    num_violations = np.count_nonzero(constr > (0+numeric_precision))\n",
    "    p_eval = 1 - (num_violations/N_eval)\n",
    "    \n",
    "    # We are also interested in the \"true\" VaR and CVaR under data_eval\n",
    "    returns_eval = np.dot(data_eval, best_sol['sol'][1:])\n",
    "    VaR_eval = np.percentile(returns_eval, 100*(1-beta), method='inverted_cdf')\n",
    "    CVaR_eval = np.mean(returns_eval[(returns_eval <= VaR_eval)])\n",
    "    \n",
    "    # Get max scenario_set size\n",
    "    max_S = 0\n",
    "    for sol in solutions:\n",
    "        S = len(sol['scenario_set'])\n",
    "        if S > max_S:\n",
    "            max_S = S\n",
    "        \n",
    "    output_data[random_seed] = [best_sol['sol'], best_sol['obj'], best_sol['lb_train'], best_sol['lb_test'],\n",
    "                                     p_eval, VaR_eval, CVaR_eval, num_iter['add'], num_iter['remove'], num_iter['clean'],\n",
    "                                     len(solutions), max_S, best_sol['time'],\n",
    "                               N_campi, campi_obj, campi_runtime]\n",
    "        \n",
    "    run_count += 1\n",
    "    print(\"Completed run: \" + str(run_count))\n",
    "    \n",
    "output_file_name = 'new_output_data'\n",
    "with open(r'output/headers_'+output_file_name+'.txt','w+') as f:\n",
    "    f.write(str(headers))\n",
    "with open(r'output/'+output_file_name+'.txt','w+') as f:\n",
    "    f.write(str(output_data))"
   ]
  },
  {
   "cell_type": "code",
   "execution_count": null,
   "id": "60aa2683",
   "metadata": {},
   "outputs": [],
   "source": [
    "# Read from file\n",
    "import json\n",
    "from numpy import array # add if the .txt file contains numpy arrays\n",
    "\n",
    "output_file_name = 'PM_compare_bertsimas_phidot=1_N1=250_N2=250_alpha=0.1_beta=0.9_100_seeds_L=1min' \n",
    "# Read from .txt file\n",
    "file_path = 'output/'+output_file_name+'.txt'\n",
    "dic = ''\n",
    "with open(file_path,'r') as f:\n",
    "     for i in f.readlines():\n",
    "        dic+=i #string\n",
    "output_data_read = eval(dic)"
   ]
  },
  {
   "cell_type": "code",
   "execution_count": null,
   "id": "22885128",
   "metadata": {},
   "outputs": [],
   "source": [
    "output_data_read"
   ]
  },
  {
   "cell_type": "code",
   "execution_count": null,
   "id": "53bee94f",
   "metadata": {},
   "outputs": [],
   "source": [
    "output_data = output_data_read"
   ]
  },
  {
   "cell_type": "code",
   "execution_count": null,
   "id": "3f6f671b",
   "metadata": {},
   "outputs": [],
   "source": [
    "# Aggregate data to get avg and stddev across random seed runs\n",
    "import pandas as pd\n",
    "\n",
    "output_data_agg = {}\n",
    "df_VaR = pd.DataFrame({key: pd.Series(val[5]) for key, val in output_data.items()})\n",
    "df_Sol = pd.DataFrame({key: pd.Series(val[0]) for key, val in output_data.items()})\n",
    "df_Sol = df_Sol.T"
   ]
  },
  {
   "cell_type": "code",
   "execution_count": null,
   "id": "af3d9916",
   "metadata": {},
   "outputs": [],
   "source": [
    "df_VaR.mean(axis=1)"
   ]
  },
  {
   "cell_type": "code",
   "execution_count": null,
   "id": "9af336ce",
   "metadata": {},
   "outputs": [],
   "source": [
    "df_VaR.std(axis=1)"
   ]
  },
  {
   "cell_type": "code",
   "execution_count": null,
   "id": "ee677476",
   "metadata": {},
   "outputs": [],
   "source": [
    "df_Sol.drop(0, axis=1, inplace=True)\n",
    "df_Sol"
   ]
  },
  {
   "cell_type": "code",
   "execution_count": null,
   "id": "39deedab",
   "metadata": {},
   "outputs": [],
   "source": [
    "solutions = df_Sol"
   ]
  },
  {
   "cell_type": "code",
   "execution_count": null,
   "id": "718a77ea",
   "metadata": {},
   "outputs": [],
   "source": [
    "dataio.plot_portfolio_holdings(solutions)"
   ]
  },
  {
   "cell_type": "code",
   "execution_count": null,
   "id": "a1f3a0fc",
   "metadata": {},
   "outputs": [],
   "source": []
  },
  {
   "cell_type": "code",
   "execution_count": null,
   "id": "a34c6c9a",
   "metadata": {},
   "outputs": [],
   "source": []
  },
  {
   "cell_type": "code",
   "execution_count": null,
   "id": "9eb83766",
   "metadata": {},
   "outputs": [],
   "source": []
  },
  {
   "cell_type": "code",
   "execution_count": null,
   "id": "8f5e43bd",
   "metadata": {},
   "outputs": [],
   "source": []
  },
  {
   "cell_type": "code",
   "execution_count": null,
   "id": "a63e5c16",
   "metadata": {},
   "outputs": [],
   "source": []
  },
  {
   "cell_type": "code",
   "execution_count": null,
   "id": "7ce8fbe2",
   "metadata": {},
   "outputs": [],
   "source": []
  },
  {
   "cell_type": "code",
   "execution_count": null,
   "id": "db5bbddc",
   "metadata": {},
   "outputs": [],
   "source": []
  },
  {
   "cell_type": "code",
   "execution_count": null,
   "id": "3fea4c98",
   "metadata": {},
   "outputs": [],
   "source": []
  },
  {
   "cell_type": "code",
   "execution_count": null,
   "id": "226c2c42",
   "metadata": {},
   "outputs": [],
   "source": []
  },
  {
   "cell_type": "code",
   "execution_count": null,
   "id": "e33c02de",
   "metadata": {},
   "outputs": [],
   "source": []
  },
  {
   "cell_type": "code",
   "execution_count": null,
   "id": "275ee565",
   "metadata": {},
   "outputs": [],
   "source": [
    "\n"
   ]
  },
  {
   "cell_type": "code",
   "execution_count": null,
   "id": "d5e46edb",
   "metadata": {},
   "outputs": [],
   "source": []
  },
  {
   "cell_type": "code",
   "execution_count": null,
   "id": "d597d65c",
   "metadata": {},
   "outputs": [],
   "source": []
  }
 ],
 "metadata": {
  "kernelspec": {
   "display_name": "Python 3 (ipykernel)",
   "language": "python",
   "name": "python3"
  },
  "language_info": {
   "codemirror_mode": {
    "name": "ipython",
    "version": 3
   },
   "file_extension": ".py",
   "mimetype": "text/x-python",
   "name": "python",
   "nbconvert_exporter": "python",
   "pygments_lexer": "ipython3",
   "version": "3.9.7"
  }
 },
 "nbformat": 4,
 "nbformat_minor": 5
}
