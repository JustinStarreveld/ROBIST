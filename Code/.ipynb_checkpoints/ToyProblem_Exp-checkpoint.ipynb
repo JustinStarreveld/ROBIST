{
 "cells": [
  {
   "cell_type": "code",
   "execution_count": 1,
   "id": "dd0536c0",
   "metadata": {},
   "outputs": [
    {
     "name": "stderr",
     "output_type": "stream",
     "text": [
      "C:\\Users\\JSTARRE\\Anaconda3\\lib\\site-packages\\scipy\\__init__.py:146: UserWarning: A NumPy version >=1.16.5 and <1.23.0 is required for this version of SciPy (detected version 1.23.1\n",
      "  warnings.warn(f\"A NumPy version >={np_minversion} and <{np_maxversion}\"\n"
     ]
    }
   ],
   "source": [
    "# Import packages\n",
    "import numpy as np\n",
    "import cvxpy as cp\n",
    "import mosek\n",
    "import time\n",
    "from sklearn.model_selection import train_test_split\n",
    "\n",
    "import phi_divergence as phi\n",
    "import robust_sampling as rs\n",
    "import dataio\n",
    "import util"
   ]
  },
  {
   "cell_type": "code",
   "execution_count": 17,
   "id": "df602991",
   "metadata": {},
   "outputs": [],
   "source": [
    "def generate_data(random_seed, k, N):\n",
    "    np.random.seed(random_seed)\n",
    "    data = np.random.uniform(-1,1,size = (N,k)) # generates N random scenarios    \n",
    "    return data \n",
    "\n",
    "def generate_data_with_nominal(random_seed, k, N):\n",
    "    data_nominal = np.array([[0] * k])\n",
    "    np.random.seed(random_seed)\n",
    "    data = np.random.uniform(-1,1,size = (N-1,k)) # generate N-1 scenarios\n",
    "    data = np.concatenate((data_nominal,data)) # add nominal case to training data\n",
    "    return data\n",
    "\n",
    "def solve_SCP(k, S, time_limit):\n",
    "    #k = S.shape[1]\n",
    "    x = cp.Variable(k, nonneg = True)\n",
    "    if len(S) > 0:\n",
    "        constraints = [-(1-cp.exp(-(S @ x))) <= 0, x <= 1]\n",
    "    else:\n",
    "        constraints = []\n",
    "    obj = cp.Maximize(cp.sum(x))\n",
    "    prob = cp.Problem(obj,constraints)\n",
    "    try:\n",
    "        prob.solve(solver=cp.MOSEK, mosek_params = {mosek.dparam.optimizer_max_time: time_limit})\n",
    "    except cp.error.SolverError:\n",
    "        return (None, None)\n",
    "    return (x.value, prob.value)\n",
    "\n",
    "def uncertain_constraint(S, x):\n",
    "    return -(1-np.exp(-(np.dot(S,x))))\n",
    "\n",
    "def check_robust(bound, numeric_precision, beta=0):\n",
    "    return (bound <= beta + numeric_precision)\n",
    "\n",
    "def get_true_exp(x, k):\n",
    "    true_exp = 1 / (2**k)\n",
    "    for i in range(k):\n",
    "        true_exp = true_exp * (1/x[i]) * (np.exp(x[i]) - np.exp(-x[i]))\n",
    "    return true_exp - 1\n",
    "    \n",
    "def solve_toyproblem_true_exp(beta, k):\n",
    "    x = cp.Variable(k, nonneg = True)\n",
    "    s = cp.Variable(k, nonneg = False)\n",
    "    constraints = [cp.sum(-cp.log(x)) + x + s <= cp.multiply(k,np.log(2))]\n",
    "    constraints_2 = [cp.exp(-s[i]) - cp.exp(cp.multiply(-2,x[i]) - s[i]) <= 1 for i in range(k)]\n",
    "    constraints.extend(constraints_2)\n",
    "    obj = cp.Maximize(cp.sum(x))\n",
    "    prob = cp.Problem(obj,constraints)\n",
    "    prob.solve(solver=cp.MOSEK)\n",
    "    return(x.value, prob.value)"
   ]
  },
  {
   "cell_type": "code",
   "execution_count": 44,
   "id": "72ac952a",
   "metadata": {},
   "outputs": [],
   "source": [
    "# Set parameter values\n",
    "random_seed = 1\n",
    "risk_measure = 'exp_constraint_leq' # options: 'chance_constraint', 'exp_constraint_leq', 'exp_constraint_geq'\n",
    "num_obs_per_bin = 5\n",
    "alpha = 0.10\n",
    "beta = 0\n",
    "k = 100\n",
    "N_train = 250\n",
    "N_test = 250\n",
    "phi_div = phi.mod_chi2_cut\n",
    "phi_dot = 2\n",
    "numeric_precision = 1e-6 # To correct for floating-point math operations"
   ]
  },
  {
   "cell_type": "code",
   "execution_count": 45,
   "id": "4665994b",
   "metadata": {},
   "outputs": [],
   "source": [
    "# Get generated data\n",
    "N_total = N_train + N_test\n",
    "\n",
    "data = generate_data(random_seed, k, N_total)\n",
    "data_train, data_test = train_test_split(data, train_size=(N_train/N_total), random_state=random_seed)"
   ]
  },
  {
   "cell_type": "code",
   "execution_count": 46,
   "id": "94b841d5",
   "metadata": {},
   "outputs": [],
   "source": [
    "#OPTIONAL:\n",
    "N_eval = 1000000\n",
    "data_eval = generate_data(random_seed + 99, k, N_eval)"
   ]
  },
  {
   "cell_type": "code",
   "execution_count": 47,
   "id": "77326b1a",
   "metadata": {},
   "outputs": [
    {
     "name": "stdout",
     "output_type": "stream",
     "text": [
      "---------------------------------------------\n",
      "iter: 1\n",
      "b_train: 9.906192103859121\n",
      "b_test: 11.213997525497252\n",
      "p_eval: 2.398209158669467\n",
      "---------------------------------------------\n",
      "iter: 2\n",
      "b_train: 8.289109797468377\n",
      "b_test: 8.64930544793231\n",
      "p_eval: 2.150421412315096\n",
      "---------------------------------------------\n",
      "iter: 3\n",
      "b_train: 5.070551568869781\n",
      "b_test: 5.877391782107103\n",
      "p_eval: 1.4532300966042497\n",
      "---------------------------------------------\n",
      "iter: 4\n",
      "b_train: 5.359392952995787\n",
      "b_test: 7.869759455281191\n",
      "p_eval: 1.4329138676589186\n",
      "---------------------------------------------\n",
      "iter: 5\n",
      "b_train: 5.79798475776756\n",
      "b_test: 9.08383255023774\n",
      "p_eval: 1.4493028553749252\n",
      "---------------------------------------------\n",
      "iter: 6\n",
      "b_train: 3.0529910076740783\n",
      "b_test: 3.6895800776094734\n",
      "p_eval: 0.7799931801646899\n",
      "---------------------------------------------\n",
      "iter: 7\n",
      "b_train: 1.03474304895197\n",
      "b_test: 1.264373823952004\n",
      "p_eval: 0.22578101548645102\n",
      "---------------------------------------------\n",
      "iter: 8\n",
      "b_train: -3.88784701161926e-10\n",
      "b_test: 1.4248537841691392e-09\n",
      "p_eval: -1.3744836133700034e-11\n"
     ]
    }
   ],
   "source": [
    "time_limit_search = 1*60 # in seconds (time provided to search algorithm)\n",
    "time_limit_mosek = 10*60 # in seconds (for larger MIP / LP solves)\n",
    "time_limit_solve = 5*60 # in seconds (for individuals solves of SCP)\n",
    "max_nr_solutions = 1 # for easy problems with long time limits, we may want extra restriction\n",
    "add_remove_threshold = 0.00 # This determines when randomness is introduced in add/removal decision\n",
    "use_tabu = False # Determines whether the tabu list are used in the search\n",
    "\n",
    "add_strategy = 'random_vio'\n",
    "remove_strategy = 'random_active'\n",
    "clean_strategy = (1000, 'all_inactive')\n",
    "\n",
    "\n",
    "(runtime, num_iter, solutions, \n",
    " best_sol, pareto_solutions) = rs.gen_and_eval_alg(data_train, data_test, beta, alpha, time_limit_search, time_limit_solve, \n",
    "                                                    max_nr_solutions, add_strategy, remove_strategy, clean_strategy, \n",
    "                                                    add_remove_threshold, use_tabu,\n",
    "                                                    phi_div, phi_dot, numeric_precision,\n",
    "                                                    solve_SCP, uncertain_constraint, check_robust,\n",
    "                                                    risk_measure, random_seed, num_obs_per_bin, data_eval)"
   ]
  },
  {
   "cell_type": "code",
   "execution_count": 31,
   "id": "4872fb60",
   "metadata": {},
   "outputs": [
    {
     "data": {
      "text/plain": [
       "20"
      ]
     },
     "execution_count": 31,
     "metadata": {},
     "output_type": "execute_result"
    }
   ],
   "source": [
    "k"
   ]
  },
  {
   "cell_type": "code",
   "execution_count": 18,
   "id": "5d46902b",
   "metadata": {},
   "outputs": [
    {
     "name": "stderr",
     "output_type": "stream",
     "text": [
      "C:\\Users\\JSTARRE\\AppData\\Local\\Temp\\ipykernel_17384\\761720593.py:37: RuntimeWarning: divide by zero encountered in double_scalars\n",
      "  true_exp = true_exp * (1/x[i]) * (np.exp(x[i]) - np.exp(-x[i]))\n",
      "C:\\Users\\JSTARRE\\AppData\\Local\\Temp\\ipykernel_17384\\761720593.py:37: RuntimeWarning: invalid value encountered in double_scalars\n",
      "  true_exp = true_exp * (1/x[i]) * (np.exp(x[i]) - np.exp(-x[i]))\n"
     ]
    },
    {
     "data": {
      "text/plain": [
       "nan"
      ]
     },
     "execution_count": 18,
     "metadata": {},
     "output_type": "execute_result"
    }
   ],
   "source": [
    "get_true_exp(best_sol['sol'], k)"
   ]
  },
  {
   "cell_type": "code",
   "execution_count": null,
   "id": "76eb16e3",
   "metadata": {},
   "outputs": [],
   "source": [
    "x_true, obj_true = solve_toyproblem_true_exp(beta, k)"
   ]
  },
  {
   "cell_type": "code",
   "execution_count": null,
   "id": "0eee9993",
   "metadata": {},
   "outputs": [],
   "source": []
  },
  {
   "cell_type": "code",
   "execution_count": null,
   "id": "e6a56235",
   "metadata": {},
   "outputs": [],
   "source": []
  },
  {
   "cell_type": "code",
   "execution_count": null,
   "id": "21547005",
   "metadata": {},
   "outputs": [],
   "source": []
  },
  {
   "cell_type": "code",
   "execution_count": null,
   "id": "46659851",
   "metadata": {},
   "outputs": [],
   "source": []
  },
  {
   "cell_type": "code",
   "execution_count": null,
   "id": "0fb1bf37",
   "metadata": {},
   "outputs": [],
   "source": []
  },
  {
   "cell_type": "code",
   "execution_count": null,
   "id": "cae04cc5",
   "metadata": {},
   "outputs": [],
   "source": []
  },
  {
   "cell_type": "code",
   "execution_count": null,
   "id": "66adbcca",
   "metadata": {},
   "outputs": [],
   "source": []
  },
  {
   "cell_type": "code",
   "execution_count": null,
   "id": "f54d6f70",
   "metadata": {},
   "outputs": [],
   "source": []
  },
  {
   "cell_type": "code",
   "execution_count": null,
   "id": "e1f1aede",
   "metadata": {},
   "outputs": [],
   "source": []
  },
  {
   "cell_type": "code",
   "execution_count": null,
   "id": "1daa6f10",
   "metadata": {},
   "outputs": [],
   "source": []
  }
 ],
 "metadata": {
  "kernelspec": {
   "display_name": "Python 3 (ipykernel)",
   "language": "python",
   "name": "python3"
  },
  "language_info": {
   "codemirror_mode": {
    "name": "ipython",
    "version": 3
   },
   "file_extension": ".py",
   "mimetype": "text/x-python",
   "name": "python",
   "nbconvert_exporter": "python",
   "pygments_lexer": "ipython3",
   "version": "3.9.7"
  }
 },
 "nbformat": 4,
 "nbformat_minor": 5
}
