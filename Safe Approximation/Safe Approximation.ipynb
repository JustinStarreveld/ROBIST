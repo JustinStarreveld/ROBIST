{
 "cells": [
  {
   "cell_type": "code",
   "execution_count": 1,
   "id": "64b1277d",
   "metadata": {},
   "outputs": [],
   "source": [
    "import numpy as np\n",
    "import pandas as pd\n",
    "import cvxpy as cp\n",
    "import mosek\n",
    "import matplotlib.pyplot as plt\n",
    "import scipy.stats\n",
    "import phi_divergence as phi\n",
    "from time import process_time\n"
   ]
  },
  {
   "cell_type": "code",
   "execution_count": 49,
   "id": "b21db292",
   "metadata": {},
   "outputs": [],
   "source": [
    "def toymodel(Z_arr):\n",
    "    x = cp.Variable(2, nonneg = True)\n",
    "    constraints = [Z_arr @ x <= 1, x[0] <= x[1]-1, x<=10]\n",
    "    obj = cp.Maximize(cp.sum(x))\n",
    "    prob = cp.Problem(obj,constraints)\n",
    "    prob.solve(solver=cp.MOSEK)\n",
    "    return(x.value, prob.value)\n",
    "\n",
    "def toymodel_true(beta):\n",
    "    x = cp.Variable(2, nonneg = True)\n",
    "    constraints = [x[0] <= x[1]-1, x<=10, (1-2*beta)*x[1] + 1 >= 0]\n",
    "    obj = cp.Maximize(cp.sum(x))\n",
    "    prob = cp.Problem(obj,constraints)\n",
    "    prob.solve(solver=cp.MOSEK)\n",
    "    return(x.value, prob.value)\n",
    "\n",
    "def lowbound(x,p,r, par, phi_div):\n",
    "    q = cp.Variable(2, nonneg = True)\n",
    "    constraints = [cp.sum(q) == 1]\n",
    "    constraints = phi_div(p,q,r,par,constraints)\n",
    "    obj = cp.Minimize(q[0])\n",
    "    prob = cp.Problem(obj,constraints)\n",
    "    prob.solve(solver=cp.MOSEK)\n",
    "    return(prob.value)"
   ]
  },
  {
   "cell_type": "code",
   "execution_count": 61,
   "id": "82a8b832",
   "metadata": {},
   "outputs": [],
   "source": [
    "par = 1\n",
    "phi_div = phi.mod_chi2_cut\n",
    "n = 1000\n",
    "phi_dot = 1\n",
    "r = phi_dot/(2*n)*scipy.stats.chi2.ppf(0.95, 1)"
   ]
  },
  {
   "cell_type": "code",
   "execution_count": 23,
   "id": "a31111bb",
   "metadata": {},
   "outputs": [],
   "source": [
    "np.random.seed(1)\n",
    "data = np.random.uniform(-1,1,size = (n,2))\n",
    "Z_arr = np.array([data[0]])\n",
    "beta = 0.95\n",
    "delta = 1/n"
   ]
  },
  {
   "cell_type": "code",
   "execution_count": 24,
   "id": "ade138ef",
   "metadata": {},
   "outputs": [
    {
     "name": "stdout",
     "output_type": "stream",
     "text": [
      "true prob 0.9666490791365197\n",
      "1.1429379049679955\n",
      "0.9580573787418731\n",
      "3\n"
     ]
    }
   ],
   "source": [
    "lb = -np.inf                      \n",
    "while beta > lb:\n",
    "    [x, obj] = toymodel(Z_arr)\n",
    "    constr = data.dot(x)\n",
    "    p = np.array([len(constr[constr<=1])/n,len(constr[constr>1])/n])\n",
    "    lb = lowbound(x,p,r, par, phi_div)\n",
    "    gap = np.ceil(n*(beta-lb)).astype(int)\n",
    "    if gap > 0:\n",
    "        vio_sort = np.sort(constr[constr>1])    #the violations are ranked here\n",
    "        vio_value = vio_sort[gap-1]\n",
    "        ind = np.where(constr == vio_value)[0][0]   # the n*(beta-lb)-th scenario is added\n",
    "        Z_arr = np.append(Z_arr, np.array([data[ind]]),axis = 0)\n",
    "print('true prob', 1/2+1/(2*x[1]))\n",
    "print(obj)\n",
    "print(lb)\n",
    "print(len(Z_arr))"
   ]
  },
  {
   "cell_type": "code",
   "execution_count": 68,
   "id": "fbc8ba36",
   "metadata": {},
   "outputs": [],
   "source": [
    "np.random.seed(1)\n",
    "data = np.random.uniform(-1,1,size = (n,2))\n",
    "Z_arr = np.array([data[0]])\n",
    "beta = 0.85\n",
    "delta = 1/n"
   ]
  },
  {
   "cell_type": "code",
   "execution_count": 56,
   "id": "80b82a24",
   "metadata": {},
   "outputs": [
    {
     "name": "stdout",
     "output_type": "stream",
     "text": [
      "1.1565613150048386\n",
      "0.952515434630034\n",
      "true prob 0.9637011677072378\n",
      "202\n"
     ]
    }
   ],
   "source": [
    "lb = -np.inf\n",
    "while beta > lb:\n",
    "    [x, obj] = toymodel(Z_arr)\n",
    "    constr = data.dot(x)\n",
    "    p = np.array([len(constr[constr<=1])/n,len(constr[constr>1])/n])\n",
    "    lb = lowbound(x,p,r, par, phi_div)\n",
    "    if len(constr[constr>1])!= 0:\n",
    "        vio_min = np.min(constr[constr>1])        # the least violated scenario is added\n",
    "        ind = np.where(constr == vio_min)[0][0]\n",
    "        Z_arr = np.append(Z_arr, np.array([data[ind]]),axis = 0)\n",
    "print(obj)\n",
    "print(lb)\n",
    "print('true prob', 1/2+1/(2*x[1]))\n",
    "print(len(Z_arr))"
   ]
  },
  {
   "cell_type": "code",
   "execution_count": 69,
   "id": "46db1778",
   "metadata": {},
   "outputs": [
    {
     "name": "stdout",
     "output_type": "stream",
     "text": [
      "[0.834 0.166]\n",
      "0.8176931077100779\n",
      "1.8571428571428572\n"
     ]
    }
   ],
   "source": [
    "[x_true, obj_true] = toymodel_true(beta)\n",
    "constr = data.dot(x_true)\n",
    "p = np.array([len(constr[constr<=1])/n,len(constr[constr>1])/n])\n",
    "lb = lowbound(x_true,p,r, par, phi_div)\n",
    "print(p)\n",
    "print(lb)\n",
    "print(obj_true)"
   ]
  },
  {
   "cell_type": "code",
   "execution_count": 52,
   "id": "51dcac38",
   "metadata": {},
   "outputs": [
    {
     "data": {
      "text/plain": [
       "array([ 0.50932224, -0.74411138, -1.19577557, ..., -1.38762293,\n",
       "       -0.99387235,  0.4002081 ])"
      ]
     },
     "execution_count": 52,
     "metadata": {},
     "output_type": "execute_result"
    }
   ],
   "source": [
    "constr"
   ]
  }
 ],
 "metadata": {
  "kernelspec": {
   "display_name": "Python 3",
   "language": "python",
   "name": "python3"
  },
  "language_info": {
   "codemirror_mode": {
    "name": "ipython",
    "version": 3
   },
   "file_extension": ".py",
   "mimetype": "text/x-python",
   "name": "python",
   "nbconvert_exporter": "python",
   "pygments_lexer": "ipython3",
   "version": "3.8.8"
  }
 },
 "nbformat": 4,
 "nbformat_minor": 5
}
