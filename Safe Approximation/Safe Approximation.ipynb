{
 "cells": [
  {
   "cell_type": "code",
   "execution_count": 1,
   "id": "64b1277d",
   "metadata": {},
   "outputs": [],
   "source": [
    "import numpy as np\n",
    "import pandas as pd\n",
    "import cvxpy as cp\n",
    "import mosek\n",
    "import matplotlib.pyplot as plt\n",
    "import scipy.stats\n",
    "import phi_divergence as phi\n",
    "from time import process_time\n"
   ]
  },
  {
   "cell_type": "code",
   "execution_count": 2,
   "id": "b21db292",
   "metadata": {},
   "outputs": [],
   "source": [
    "def toymodel(Z_arr):\n",
    "    x = cp.Variable(2, nonneg = True)\n",
    "    constraints = [Z_arr @ x <= 1, x<= 10]\n",
    "    obj = cp.Maximize(cp.sum(x))\n",
    "    prob = cp.Problem(obj,constraints)\n",
    "    prob.solve(solver=cp.MOSEK)\n",
    "    return(x.value)\n",
    "\n",
    "def lowbound(x,p,r, par, phi_div):\n",
    "    q = cp.Variable(2, nonneg = True)\n",
    "    constraints = [cp.sum(q) == 1]\n",
    "    constraints = phi_div(p,q,r,par,constraints)\n",
    "    obj = cp.Minimize(q[0])\n",
    "    prob = cp.Problem(obj,constraints)\n",
    "    prob.solve(solver=cp.MOSEK)\n",
    "    return(prob.value)"
   ]
  },
  {
   "cell_type": "code",
   "execution_count": 12,
   "id": "82a8b832",
   "metadata": {},
   "outputs": [],
   "source": [
    "par = 1\n",
    "phi_div = phi.kb_cut\n",
    "n = 1000\n",
    "phi_dot = 1\n",
    "r = phi_dot/(2*n)*scipy.stats.chi2.ppf(0.99, 1)"
   ]
  },
  {
   "cell_type": "code",
   "execution_count": 13,
   "id": "eb1d78d7",
   "metadata": {},
   "outputs": [],
   "source": [
    "np.random.seed(1)"
   ]
  },
  {
   "cell_type": "code",
   "execution_count": 14,
   "id": "a31111bb",
   "metadata": {},
   "outputs": [
    {
     "name": "stdout",
     "output_type": "stream",
     "text": [
      "true prob 0.5828424631268384\n"
     ]
    }
   ],
   "source": [
    "data = np.random.uniform(-1,1,size = (n,2))\n",
    "Z_arr = np.array([data[0],data[1]])\n",
    "x = toymodel(Z_arr)\n",
    "print('true prob', 1/2+1/(2*x[1]))\n",
    "cons_check = data.dot(x) <= 1\n",
    "feas = np.where(cons_check == True)\n",
    "infeas = np.where(cons_check == False)\n",
    "p = np.array([len(feas[0])/n,len(infeas[0])/n])\n"
   ]
  },
  {
   "cell_type": "code",
   "execution_count": 15,
   "id": "ade138ef",
   "metadata": {},
   "outputs": [
    {
     "data": {
      "text/plain": [
       "0.5053660487429287"
      ]
     },
     "execution_count": 15,
     "metadata": {},
     "output_type": "execute_result"
    }
   ],
   "source": [
    "lowbound(x,p,r, par, phi_div)"
   ]
  },
  {
   "cell_type": "code",
   "execution_count": 16,
   "id": "04ff205e",
   "metadata": {},
   "outputs": [
    {
     "data": {
      "text/plain": [
       "array([0.546, 0.454])"
      ]
     },
     "execution_count": 16,
     "metadata": {},
     "output_type": "execute_result"
    }
   ],
   "source": [
    "p"
   ]
  }
 ],
 "metadata": {
  "kernelspec": {
   "display_name": "Python 3",
   "language": "python",
   "name": "python3"
  },
  "language_info": {
   "codemirror_mode": {
    "name": "ipython",
    "version": 3
   },
   "file_extension": ".py",
   "mimetype": "text/x-python",
   "name": "python",
   "nbconvert_exporter": "python",
   "pygments_lexer": "ipython3",
   "version": "3.8.8"
  }
 },
 "nbformat": 4,
 "nbformat_minor": 5
}
