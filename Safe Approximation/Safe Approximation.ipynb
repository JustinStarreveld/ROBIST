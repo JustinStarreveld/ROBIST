{
 "cells": [
  {
   "cell_type": "code",
   "execution_count": 1,
   "id": "64b1277d",
   "metadata": {},
   "outputs": [],
   "source": [
    "import numpy as np\n",
    "import pandas as pd\n",
    "import cvxpy as cp\n",
    "import mosek\n",
    "import matplotlib.pyplot as plt\n",
    "import scipy.stats\n",
    "import phi_divergence as phi\n",
    "from time import process_time\n"
   ]
  },
  {
   "cell_type": "code",
   "execution_count": 63,
   "id": "b21db292",
   "metadata": {},
   "outputs": [],
   "source": [
    "def toymodel(Z_arr):\n",
    "    x = cp.Variable(2, nonneg = True)\n",
    "    constraints = [Z_arr @ x <= 1, x[0]<= 1+x[1], x[0] <= x[1]-1, x<=10]\n",
    "    obj = cp.Maximize(cp.sum(x))\n",
    "    prob = cp.Problem(obj,constraints)\n",
    "    prob.solve(solver=cp.MOSEK)\n",
    "    return(x.value, prob.value)\n",
    "\n",
    "def lowbound(x,p,r, par, phi_div):\n",
    "    q = cp.Variable(2, nonneg = True)\n",
    "    constraints = [cp.sum(q) == 1]\n",
    "    constraints = phi_div(p,q,r,par,constraints)\n",
    "    obj = cp.Minimize(q[0])\n",
    "    prob = cp.Problem(obj,constraints)\n",
    "    prob.solve(solver=cp.MOSEK)\n",
    "    return(prob.value)"
   ]
  },
  {
   "cell_type": "code",
   "execution_count": 101,
   "id": "82a8b832",
   "metadata": {},
   "outputs": [],
   "source": [
    "par = 1\n",
    "phi_div = phi.mod_chi2_cut\n",
    "n = 1000\n",
    "phi_dot = 1\n",
    "r = phi_dot/(2*n)*scipy.stats.chi2.ppf(0.95, 1)"
   ]
  },
  {
   "cell_type": "code",
   "execution_count": 65,
   "id": "eb1d78d7",
   "metadata": {},
   "outputs": [],
   "source": []
  },
  {
   "cell_type": "code",
   "execution_count": 479,
   "id": "a31111bb",
   "metadata": {},
   "outputs": [],
   "source": [
    "np.random.seed(1)\n",
    "data = np.random.uniform(-1,1,size = (n,2))\n",
    "Z_arr = np.array([data[0]])\n",
    "beta = 0.85\n",
    "delta = 1/n"
   ]
  },
  {
   "cell_type": "code",
   "execution_count": 461,
   "id": "ade138ef",
   "metadata": {},
   "outputs": [
    {
     "name": "stdout",
     "output_type": "stream",
     "text": [
      "true prob 0.9076476882939759\n",
      "1.4530986651369198\n",
      "0.8741786303566359\n",
      "-24\n"
     ]
    }
   ],
   "source": [
    "[x, obj] = toymodel(Z_arr)\n",
    "print('true prob', 1/2+1/(2*x[1]))\n",
    "constr = data.dot(x)\n",
    "p = np.array([len(constr[constr<=1])/n,len(constr[constr>1])/n])\n",
    "lb = lowbound(x,p,r, par, phi_div)\n",
    "print(obj)\n",
    "print(lb)\n",
    "gap = np.ceil(n*(beta-lb)).astype(int)\n",
    "print(gap)\n",
    "if gap > 0:\n",
    "    vio_sort = np.sort(constr[constr>1])\n",
    "    vio_value = vio_sort[gap-1]\n",
    "    ind = np.where(constr == vio_value)[0][0]\n",
    "    Z_arr = np.append(Z_arr, np.array([data[ind]]),axis = 0)"
   ]
  },
  {
   "cell_type": "code",
   "execution_count": 480,
   "id": "80b82a24",
   "metadata": {},
   "outputs": [
    {
     "name": "stdout",
     "output_type": "stream",
     "text": [
      "1.63915710331428\n",
      "0.850023573814368\n",
      "true prob 0.87890885644671\n"
     ]
    }
   ],
   "source": [
    "lb = -np.inf\n",
    "while beta > lb:\n",
    "    [x, obj] = toymodel(Z_arr)\n",
    "    constr = data.dot(x)\n",
    "    p = np.array([len(constr[constr<=1])/n,len(constr[constr>1])/n])\n",
    "    lb = lowbound(x,p,r, par, phi_div)\n",
    "    if len(constr[constr>1])!= 0:\n",
    "        vio_min = np.min(constr[constr>1])\n",
    "        ind = np.where(constr == vio_min)[0][0]\n",
    "        Z_arr = np.append(Z_arr, np.array([data[ind]]),axis = 0)\n",
    "print(obj)\n",
    "print(lb)\n",
    "print('true prob', 1/2+1/(2*x[1]))"
   ]
  }
 ],
 "metadata": {
  "kernelspec": {
   "display_name": "Python 3",
   "language": "python",
   "name": "python3"
  },
  "language_info": {
   "codemirror_mode": {
    "name": "ipython",
    "version": 3
   },
   "file_extension": ".py",
   "mimetype": "text/x-python",
   "name": "python",
   "nbconvert_exporter": "python",
   "pygments_lexer": "ipython3",
   "version": "3.8.8"
  }
 },
 "nbformat": 4,
 "nbformat_minor": 5
}
