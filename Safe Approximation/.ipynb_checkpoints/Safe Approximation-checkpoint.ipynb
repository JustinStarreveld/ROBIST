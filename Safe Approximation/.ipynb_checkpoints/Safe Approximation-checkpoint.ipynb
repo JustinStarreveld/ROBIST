{
 "cells": [
  {
   "cell_type": "code",
   "execution_count": 1,
   "id": "64b1277d",
   "metadata": {},
   "outputs": [],
   "source": [
    "import numpy as np\n",
    "import pandas as pd\n",
    "import cvxpy as cp\n",
    "import mosek\n",
    "import matplotlib.pyplot as plt\n",
    "import scipy.stats\n",
    "import phi_divergence as phi\n",
    "from time import process_time\n"
   ]
  },
  {
   "cell_type": "code",
   "execution_count": 7,
   "id": "b21db292",
   "metadata": {},
   "outputs": [],
   "source": [
    "def toymodel(Z_arr):\n",
    "    x = cp.Variable(2, nonneg = True)\n",
    "    constraints = [Z_arr @ x <= 1, x[0] <= x[1]-1, x<=10]\n",
    "    obj = cp.Maximize(cp.sum(x))\n",
    "    prob = cp.Problem(obj,constraints)\n",
    "    prob.solve(solver=cp.MOSEK)\n",
    "    return(x.value, prob.value)\n",
    "\n",
    "def toymodel_true(beta):\n",
    "    x = cp.Variable(2, nonneg = True)\n",
    "    constraints = [x[0] <= x[1]-1, x<=10, (1-2*beta)*x[1] + 1 >= 0]\n",
    "    obj = cp.Maximize(cp.sum(x))\n",
    "    prob = cp.Problem(obj,constraints)\n",
    "    prob.solve(solver=cp.MOSEK)\n",
    "    return(x.value, prob.value)\n",
    "\n",
    "def lowbound(p,r, par, phi_div):\n",
    "    q = cp.Variable(2, nonneg = True)\n",
    "    constraints = [cp.sum(q) == 1]\n",
    "    constraints = phi_div(p,q,r,par,constraints)\n",
    "    obj = cp.Minimize(q[0])\n",
    "    prob = cp.Problem(obj,constraints)\n",
    "    prob.solve(solver=cp.MOSEK)\n",
    "    return(prob.value)"
   ]
  },
  {
   "cell_type": "code",
   "execution_count": null,
   "id": "e191804a",
   "metadata": {},
   "outputs": [],
   "source": []
  },
  {
   "cell_type": "code",
   "execution_count": 8,
   "id": "82a8b832",
   "metadata": {},
   "outputs": [],
   "source": [
    "par = 1\n",
    "phi_div = phi.mod_chi2_cut\n",
    "n = 1000\n",
    "phi_dot = 1\n",
    "alpha = 0.5\n",
    "r = phi_dot/(2*n)*scipy.stats.chi2.ppf(1-alpha, 1)"
   ]
  },
  {
   "cell_type": "code",
   "execution_count": 10,
   "id": "a31111bb",
   "metadata": {},
   "outputs": [],
   "source": [
    "np.random.seed(1)\n",
    "data = np.random.uniform(-1,1,size = (n,2))\n",
    "Z_arr = np.array([data[0]])\n",
    "beta = 0.95\n",
    "delta = 1/n"
   ]
  },
  {
   "cell_type": "code",
   "execution_count": 11,
   "id": "ade138ef",
   "metadata": {},
   "outputs": [
    {
     "name": "stdout",
     "output_type": "stream",
     "text": [
      "true prob 0.958669367420551\n",
      "1.1802197204137297\n",
      "0.9518734130797427\n",
      "3\n"
     ]
    }
   ],
   "source": [
    "lb = -np.inf                      \n",
    "while beta > lb:\n",
    "    [x, obj] = toymodel(Z_arr)\n",
    "    constr = data.dot(x)\n",
    "    p = np.array([len(constr[constr<=1])/n,len(constr[constr>1])/n])\n",
    "    lb = lowbound(p,r, par, phi_div)\n",
    "    gap = np.ceil(n*(beta-lb)).astype(int)\n",
    "    if gap > 0:\n",
    "        vio_sort = np.sort(constr[constr>1])    #the violations are ranked here\n",
    "        vio_value = vio_sort[gap-1]\n",
    "        ind = np.where(constr == vio_value)[0][0]   # the n*(beta-lb)-th scenario is added\n",
    "        Z_arr = np.append(Z_arr, np.array([data[ind]]),axis = 0)\n",
    "print('true prob', 1/2+1/(2*x[1]))\n",
    "print(obj)\n",
    "print(lb)\n",
    "print(len(Z_arr))"
   ]
  },
  {
   "cell_type": "code",
   "execution_count": 12,
   "id": "fbc8ba36",
   "metadata": {},
   "outputs": [],
   "source": [
    "np.random.seed(1)\n",
    "data = np.random.uniform(-1,1,size = (n,2))\n",
    "Z_arr = np.array([data[0]])\n",
    "beta = 0.95\n",
    "delta = 1/n"
   ]
  },
  {
   "cell_type": "code",
   "execution_count": 13,
   "id": "80b82a24",
   "metadata": {},
   "outputs": [
    {
     "ename": "TypeError",
     "evalue": "lowbound() takes 4 positional arguments but 5 were given",
     "output_type": "error",
     "traceback": [
      "\u001b[1;31m---------------------------------------------------------------------------\u001b[0m",
      "\u001b[1;31mTypeError\u001b[0m                                 Traceback (most recent call last)",
      "\u001b[1;32m~\\AppData\\Local\\Temp/ipykernel_6868/3958694764.py\u001b[0m in \u001b[0;36m<module>\u001b[1;34m\u001b[0m\n\u001b[0;32m      4\u001b[0m     \u001b[0mconstr\u001b[0m \u001b[1;33m=\u001b[0m \u001b[0mdata\u001b[0m\u001b[1;33m.\u001b[0m\u001b[0mdot\u001b[0m\u001b[1;33m(\u001b[0m\u001b[0mx\u001b[0m\u001b[1;33m)\u001b[0m\u001b[1;33m\u001b[0m\u001b[1;33m\u001b[0m\u001b[0m\n\u001b[0;32m      5\u001b[0m     \u001b[0mp\u001b[0m \u001b[1;33m=\u001b[0m \u001b[0mnp\u001b[0m\u001b[1;33m.\u001b[0m\u001b[0marray\u001b[0m\u001b[1;33m(\u001b[0m\u001b[1;33m[\u001b[0m\u001b[0mlen\u001b[0m\u001b[1;33m(\u001b[0m\u001b[0mconstr\u001b[0m\u001b[1;33m[\u001b[0m\u001b[0mconstr\u001b[0m\u001b[1;33m<=\u001b[0m\u001b[1;36m1\u001b[0m\u001b[1;33m]\u001b[0m\u001b[1;33m)\u001b[0m\u001b[1;33m/\u001b[0m\u001b[0mn\u001b[0m\u001b[1;33m,\u001b[0m\u001b[0mlen\u001b[0m\u001b[1;33m(\u001b[0m\u001b[0mconstr\u001b[0m\u001b[1;33m[\u001b[0m\u001b[0mconstr\u001b[0m\u001b[1;33m>\u001b[0m\u001b[1;36m1\u001b[0m\u001b[1;33m]\u001b[0m\u001b[1;33m)\u001b[0m\u001b[1;33m/\u001b[0m\u001b[0mn\u001b[0m\u001b[1;33m]\u001b[0m\u001b[1;33m)\u001b[0m\u001b[1;33m\u001b[0m\u001b[1;33m\u001b[0m\u001b[0m\n\u001b[1;32m----> 6\u001b[1;33m     \u001b[0mlb\u001b[0m \u001b[1;33m=\u001b[0m \u001b[0mlowbound\u001b[0m\u001b[1;33m(\u001b[0m\u001b[0mx\u001b[0m\u001b[1;33m,\u001b[0m\u001b[0mp\u001b[0m\u001b[1;33m,\u001b[0m\u001b[0mr\u001b[0m\u001b[1;33m,\u001b[0m \u001b[0mpar\u001b[0m\u001b[1;33m,\u001b[0m \u001b[0mphi_div\u001b[0m\u001b[1;33m)\u001b[0m\u001b[1;33m\u001b[0m\u001b[1;33m\u001b[0m\u001b[0m\n\u001b[0m\u001b[0;32m      7\u001b[0m     \u001b[1;32mif\u001b[0m \u001b[0mlen\u001b[0m\u001b[1;33m(\u001b[0m\u001b[0mconstr\u001b[0m\u001b[1;33m[\u001b[0m\u001b[0mconstr\u001b[0m\u001b[1;33m>\u001b[0m\u001b[1;36m1\u001b[0m\u001b[1;33m]\u001b[0m\u001b[1;33m)\u001b[0m\u001b[1;33m!=\u001b[0m \u001b[1;36m0\u001b[0m\u001b[1;33m:\u001b[0m\u001b[1;33m\u001b[0m\u001b[1;33m\u001b[0m\u001b[0m\n\u001b[0;32m      8\u001b[0m         \u001b[0mvio_min\u001b[0m \u001b[1;33m=\u001b[0m \u001b[0mnp\u001b[0m\u001b[1;33m.\u001b[0m\u001b[0mmin\u001b[0m\u001b[1;33m(\u001b[0m\u001b[0mconstr\u001b[0m\u001b[1;33m[\u001b[0m\u001b[0mconstr\u001b[0m\u001b[1;33m>\u001b[0m\u001b[1;36m1\u001b[0m\u001b[1;33m]\u001b[0m\u001b[1;33m)\u001b[0m        \u001b[1;31m# the least violated scenario is added\u001b[0m\u001b[1;33m\u001b[0m\u001b[1;33m\u001b[0m\u001b[0m\n",
      "\u001b[1;31mTypeError\u001b[0m: lowbound() takes 4 positional arguments but 5 were given"
     ]
    }
   ],
   "source": [
    "lb = -np.inf\n",
    "while beta > lb:\n",
    "    [x, obj] = toymodel(Z_arr)\n",
    "    constr = data.dot(x)\n",
    "    p = np.array([len(constr[constr<=1])/n,len(constr[constr>1])/n])\n",
    "    lb = lowbound(p,r, par, phi_div)\n",
    "    if len(constr[constr>1])!= 0:\n",
    "        vio_min = np.min(constr[constr>1])        # the least violated scenario is added\n",
    "        ind = np.where(constr == vio_min)[0][0]\n",
    "        Z_arr = np.append(Z_arr, np.array([data[ind]]),axis = 0)\n",
    "print(obj)\n",
    "print(lb)\n",
    "print('true prob', 1/2+1/(2*x[1]))\n",
    "print(len(Z_arr))"
   ]
  },
  {
   "cell_type": "code",
   "execution_count": null,
   "id": "f4a66661",
   "metadata": {},
   "outputs": [],
   "source": [
    "plt.plot(data[:,0],data[:,1],'o')\n",
    "plt.plot(Z_arr[:,0],Z_arr[:,1],'o')\n",
    "plt.xlabel('xi_1')\n",
    "plt.ylabel('xi_2')\n",
    "plt.savefig('N1000alpha05beta095', format = 'eps')"
   ]
  },
  {
   "cell_type": "code",
   "execution_count": null,
   "id": "46db1778",
   "metadata": {},
   "outputs": [],
   "source": [
    "[x_true, obj_true] = toymodel_true(beta)\n",
    "constr = data.dot(x_true)\n",
    "p = np.array([len(constr[constr<=1])/n,len(constr[constr>1])/n])\n",
    "lb = lowbound(x_true,p,r, par, phi_div)\n",
    "print(p)\n",
    "print(lb)\n",
    "print(obj_true)"
   ]
  },
  {
   "cell_type": "code",
   "execution_count": null,
   "id": "51dcac38",
   "metadata": {},
   "outputs": [],
   "source": [
    "constr"
   ]
  }
 ],
 "metadata": {
  "kernelspec": {
   "display_name": "Python 3 (ipykernel)",
   "language": "python",
   "name": "python3"
  },
  "language_info": {
   "codemirror_mode": {
    "name": "ipython",
    "version": 3
   },
   "file_extension": ".py",
   "mimetype": "text/x-python",
   "name": "python",
   "nbconvert_exporter": "python",
   "pygments_lexer": "ipython3",
   "version": "3.9.7"
  }
 },
 "nbformat": 4,
 "nbformat_minor": 5
}
